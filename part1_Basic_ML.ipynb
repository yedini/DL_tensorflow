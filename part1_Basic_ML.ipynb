{
  "nbformat": 4,
  "nbformat_minor": 0,
  "metadata": {
    "colab": {
      "name": "part1.Basic ML.ipynb",
      "provenance": [],
      "collapsed_sections": [],
      "mount_file_id": "1_aEuF7W9egcoYlRXTPNefXOxDsn8knkY",
      "authorship_tag": "ABX9TyNv5+86hj/15gmsVX6X9ckQ",
      "include_colab_link": true
    },
    "kernelspec": {
      "name": "python3",
      "display_name": "Python 3"
    },
    "language_info": {
      "name": "python"
    }
  },
  "cells": [
    {
      "cell_type": "markdown",
      "metadata": {
        "id": "view-in-github",
        "colab_type": "text"
      },
      "source": [
        "<a href=\"https://colab.research.google.com/github/yedini/DL_tensorflow/blob/main/part1_Basic_ML.ipynb\" target=\"_parent\"><img src=\"https://colab.research.google.com/assets/colab-badge.svg\" alt=\"Open In Colab\"/></a>"
      ]
    },
    {
      "cell_type": "code",
      "metadata": {
        "id": "OyofafNyblrr"
      },
      "source": [
        "import tensorflow as tf\n",
        "import numpy as np\n",
        "import matplotlib.pyplot as plt\n",
        "from google.colab import drive\n",
        "\n"
      ],
      "execution_count": null,
      "outputs": []
    },
    {
      "cell_type": "code",
      "metadata": {
        "id": "YrOYDyLQ-3-5"
      },
      "source": [
        "file = '/content/drive/MyDrive/딥러닝/tensorflow로 시작하는 딥러닝/실습/data-04-zoo.csv'\n",
        "import pandas as pd\n",
        "e = pd.read_csv(file)"
      ],
      "execution_count": null,
      "outputs": []
    },
    {
      "cell_type": "markdown",
      "metadata": {
        "id": "9Nyv86hXYs4I"
      },
      "source": [
        "# lab02.SLR을 tensorflow로 구현하기"
      ]
    },
    {
      "cell_type": "markdown",
      "metadata": {
        "id": "M9COBm5-cFmd"
      },
      "source": [
        "###Hypothesis"
      ]
    },
    {
      "cell_type": "code",
      "metadata": {
        "id": "cS7tA4Upb_LB"
      },
      "source": [
        "# x와 y 데이터가 같음: 입력과 출력이 같은 모델\n",
        "x_data = [1,2,3,4,5]\n",
        "y_data = [1,2,3,4,5]\n",
        "\n",
        "# 초기값: 임의로 지정\n",
        "W = tf.Variable(2.0)\n",
        "b = tf.Variable(0.5)\n",
        "\n",
        "hypothesis = W * x_data + b"
      ],
      "execution_count": null,
      "outputs": []
    },
    {
      "cell_type": "code",
      "metadata": {
        "colab": {
          "base_uri": "https://localhost:8080/"
        },
        "id": "BzhpyiE1cckW",
        "outputId": "12ec634a-8fbb-4834-e262-c7b3090a5e30"
      },
      "source": [
        "W.numpy(), b.numpy()"
      ],
      "execution_count": null,
      "outputs": [
        {
          "output_type": "execute_result",
          "data": {
            "text/plain": [
              "(2.0, 0.5)"
            ]
          },
          "metadata": {
            "tags": []
          },
          "execution_count": 4
        }
      ]
    },
    {
      "cell_type": "markdown",
      "metadata": {
        "id": "j4GDwZ3ec5Oy"
      },
      "source": [
        "### Cost"
      ]
    },
    {
      "cell_type": "code",
      "metadata": {
        "id": "QFS2tXSncfBj"
      },
      "source": [
        "cost = tf.reduce_mean(tf.square(hypothesis - y_data)) \n"
      ],
      "execution_count": null,
      "outputs": []
    },
    {
      "cell_type": "code",
      "metadata": {
        "colab": {
          "base_uri": "https://localhost:8080/"
        },
        "id": "uQsqkU-5def5",
        "outputId": "eef25c1e-41ce-44b9-a61e-3d4b22d11358"
      },
      "source": [
        "# tf.reduce_mean : 차원 제거 후 평균 계산.\n",
        "v = [1., 2., 3., 4.]\n",
        "tf.reduce_mean(v)  #2.5 : rank가 1에서 0차원으로 줄어들었다."
      ],
      "execution_count": null,
      "outputs": [
        {
          "output_type": "execute_result",
          "data": {
            "text/plain": [
              "<tf.Tensor: shape=(), dtype=float32, numpy=2.5>"
            ]
          },
          "metadata": {
            "tags": []
          },
          "execution_count": 6
        }
      ]
    },
    {
      "cell_type": "code",
      "metadata": {
        "colab": {
          "base_uri": "https://localhost:8080/"
        },
        "id": "PO0k6H3Yc-6w",
        "outputId": "dff1c34d-1d41-414b-8b6d-c5a7d28361b8"
      },
      "source": [
        "# tf.square()\n",
        "tf.square(3)"
      ],
      "execution_count": null,
      "outputs": [
        {
          "output_type": "execute_result",
          "data": {
            "text/plain": [
              "<tf.Tensor: shape=(), dtype=int32, numpy=9>"
            ]
          },
          "metadata": {
            "tags": []
          },
          "execution_count": 7
        }
      ]
    },
    {
      "cell_type": "markdown",
      "metadata": {
        "id": "nYdPOlHXdxhO"
      },
      "source": [
        "### Gradient descent : 경사하강법        \n",
        "cost(W,b)를 minimize하는 W,b 찾기       \n",
        "          \n",
        "tf.GradientTape() 함수 사용, 보통 with 구문과 같이 쓰인다.      \n",
        "with 구문 안의 변수들에 대한 정보를 tape에 저장한다."
      ]
    },
    {
      "cell_type": "code",
      "metadata": {
        "id": "dZGoWRFGd9tI"
      },
      "source": [
        "### Gradient descent 과정\n",
        "\n",
        "# learning rate 초기값\n",
        "learning_rate = 0.01   # : 기울기를 얼마만큼 반영해서 변수를 업데이트 할건지 결정함.\n",
        "\n",
        "#gradient descent\n",
        "with tf.GradientTape() as tape:\n",
        "  hypothesis = W * x_data + b\n",
        "  cost = tf.reduce_mean(tf.square(hypothesis - y_data)) \n",
        "  #hypothesis와 cost가 tape에 저장됨.\n",
        "\n",
        "W_grad, b_grad = tape.gradient(cost, [W,b]) #tape에 저장된 cost를 W와 b에 대해 각각 미분해서 기울기값을 W_grad, b_grad로 반환\n",
        "\n",
        "# A.assign_sub(B) : A = A-B\n",
        "W.assign_sub(learning_rate * W_grad) # W를 업데이트\n",
        "b.assign_sub(learning_rate * b_grad) # b를 업데이트"
      ],
      "execution_count": null,
      "outputs": []
    },
    {
      "cell_type": "code",
      "metadata": {
        "colab": {
          "base_uri": "https://localhost:8080/"
        },
        "id": "kfFj69frd7Nh",
        "outputId": "da77e664-3886-4384-a039-7e9bb797d97c"
      },
      "source": [
        "### 여러번 반복해서 parameter 값 구하기\n",
        "\n",
        "W = tf.Variable(2.9)\n",
        "b = tf.Variable(0.5)\n",
        "learning_rate = 0.01 \n",
        "\n",
        "for i in range(100):\n",
        "  #gradient descent\n",
        "  with tf.GradientTape() as tape:\n",
        "    hypothesis = W * x_data + b\n",
        "    cost = tf.reduce_mean(tf.square(hypothesis - y_data)) \n",
        "  \n",
        "  W_grad, b_grad = tape.gradient(cost, [W,b])\n",
        "\n",
        "  W.assign_sub(learning_rate * W_grad) # W를 업데이트\n",
        "  b.assign_sub(learning_rate * b_grad) # b를 업데이트\n",
        "\n",
        "  if i % 10 == 0:\n",
        "    print(\"{:5}|{:10.4}|{:10.4}|{:10.6f}\".format(i, W.numpy(), b.numpy(), cost))"
      ],
      "execution_count": null,
      "outputs": [
        {
          "output_type": "stream",
          "text": [
            "    0|     2.452|     0.376| 45.660004\n",
            "   10|     1.104|  0.003398|  0.206336\n",
            "   20|     1.013|  -0.02091|  0.001026\n",
            "   30|     1.007|  -0.02184|  0.000093\n",
            "   40|     1.006|  -0.02123|  0.000083\n",
            "   50|     1.006|  -0.02053|  0.000077\n",
            "   60|     1.005|  -0.01984|  0.000072\n",
            "   70|     1.005|  -0.01918|  0.000067\n",
            "   80|     1.005|  -0.01854|  0.000063\n",
            "   90|     1.005|  -0.01793|  0.000059\n"
          ],
          "name": "stdout"
        }
      ]
    },
    {
      "cell_type": "code",
      "metadata": {
        "colab": {
          "base_uri": "https://localhost:8080/",
          "height": 286
        },
        "id": "2GbAJxIlkHch",
        "outputId": "c8f29789-98db-4dbe-c5d6-1702c362e848"
      },
      "source": [
        "plt.plot(x_data, y_data, 'o')\n",
        "plt.plot(x_data, hypothesis.numpy(), 'r-')\n",
        "plt.ylim(0, 8)"
      ],
      "execution_count": null,
      "outputs": [
        {
          "output_type": "execute_result",
          "data": {
            "text/plain": [
              "(0.0, 8.0)"
            ]
          },
          "metadata": {
            "tags": []
          },
          "execution_count": 11
        },
        {
          "output_type": "display_data",
          "data": {
            "image/png": "[encoded data removed]",
            "text/plain": [
              "<Figure size 432x288 with 1 Axes>"
            ]
          },
          "metadata": {
            "tags": [],
            "needs_background": "light"
          }
        }
      ]
    },
    {
      "cell_type": "markdown",
      "metadata": {
        "id": "xCW_a3Mhki_M"
      },
      "source": [
        "### Predict"
      ]
    },
    {
      "cell_type": "code",
      "metadata": {
        "colab": {
          "base_uri": "https://localhost:8080/"
        },
        "id": "7Z0upzQHkkaP",
        "outputId": "46acea80-a156-402e-8ec6-95649bc3a606"
      },
      "source": [
        "print(W * 5 + b)\n",
        "print(W * 2.5 + b)"
      ],
      "execution_count": null,
      "outputs": [
        {
          "output_type": "stream",
          "text": [
            "tf.Tensor(5.0066934, shape=(), dtype=float32)\n",
            "tf.Tensor(2.4946523, shape=(), dtype=float32)\n"
          ],
          "name": "stdout"
        }
      ]
    },
    {
      "cell_type": "markdown",
      "metadata": {
        "id": "Q33eci0oY371"
      },
      "source": [
        "# lab03. Linear Regresion and Hot to minimize cost를 Tensorflow로 구현하기"
      ]
    },
    {
      "cell_type": "markdown",
      "metadata": {
        "id": "4rCMvf5rZLfn"
      },
      "source": [
        "### cost function을 순수하게 python으로 구현"
      ]
    },
    {
      "cell_type": "code",
      "metadata": {
        "colab": {
          "base_uri": "https://localhost:8080/"
        },
        "id": "1zglJLBrY8-P",
        "outputId": "95f08b2b-d320-4570-c040-f7ab25e6a76a"
      },
      "source": [
        "x = np.array([1,2,3])\n",
        "y = np.array([1,2,3])\n",
        "\n",
        "def cost_func(W, x, y):\n",
        "  C = 0\n",
        "  for i in range(len(x)):\n",
        "    C += (W*x[i]-y[i])**2\n",
        "  return C / len(x)\n",
        "\n",
        "for feed_W in np.linspace(-3, 5, num=15): # -3에서 5사이를 15개의 구간으로 나눔\n",
        "  curr_cost = cost_func(feed_W, x, y)\n",
        "  print(\"{:6.3f}|{:10.5f}\".format(feed_W, curr_cost))"
      ],
      "execution_count": null,
      "outputs": [
        {
          "output_type": "stream",
          "text": [
            "-3.000|  74.66667\n",
            "-2.429|  54.85714\n",
            "-1.857|  38.09524\n",
            "-1.286|  24.38095\n",
            "-0.714|  13.71429\n",
            "-0.143|   6.09524\n",
            " 0.429|   1.52381\n",
            " 1.000|   0.00000\n",
            " 1.571|   1.52381\n",
            " 2.143|   6.09524\n",
            " 2.714|  13.71429\n",
            " 3.286|  24.38095\n",
            " 3.857|  38.09524\n",
            " 4.429|  54.85714\n",
            " 5.000|  74.66667\n"
          ],
          "name": "stdout"
        }
      ]
    },
    {
      "cell_type": "markdown",
      "metadata": {
        "id": "TQ0SyJS0aS-J"
      },
      "source": [
        "### 같은 내용을 tensorflow로 구현"
      ]
    },
    {
      "cell_type": "code",
      "metadata": {
        "colab": {
          "base_uri": "https://localhost:8080/"
        },
        "id": "xsIf8BwcaVAv",
        "outputId": "7ed544d9-57d7-4c81-eb52-55bafd7523de"
      },
      "source": [
        "x = np.array([1,2,3])\n",
        "y = np.array([1,2,3])\n",
        "\n",
        "def cost_func(W, x, y):\n",
        "  hypothesis = x*W\n",
        "  return tf.reduce_mean(tf.square(hypothesis-y))\n",
        "\n",
        "W_values = np.linspace(-3, 5, num=15)\n",
        "cost_values=[]\n",
        "\n",
        "for feed_W in W_values:\n",
        "  curr_cost = cost_func(feed_W, x, y)\n",
        "  cost_values.append(curr_cost)\n",
        "  print(\"{:6.3f}|{:10.5f}\".format(feed_W, curr_cost))"
      ],
      "execution_count": null,
      "outputs": [
        {
          "output_type": "stream",
          "text": [
            "-3.000|  74.66667\n",
            "-2.429|  54.85714\n",
            "-1.857|  38.09524\n",
            "-1.286|  24.38095\n",
            "-0.714|  13.71429\n",
            "-0.143|   6.09524\n",
            " 0.429|   1.52381\n",
            " 1.000|   0.00000\n",
            " 1.571|   1.52381\n",
            " 2.143|   6.09524\n",
            " 2.714|  13.71429\n",
            " 3.286|  24.38095\n",
            " 3.857|  38.09524\n",
            " 4.429|  54.85714\n",
            " 5.000|  74.66667\n"
          ],
          "name": "stdout"
        }
      ]
    },
    {
      "cell_type": "markdown",
      "metadata": {
        "id": "PhZCmf9Xbdg7"
      },
      "source": [
        "### Gradient descent"
      ]
    },
    {
      "cell_type": "code",
      "metadata": {
        "colab": {
          "base_uri": "https://localhost:8080/"
        },
        "id": "1VWRTldsbf3T",
        "outputId": "264f7cd4-f4a9-4f89-d0ab-0d52aadf1e25"
      },
      "source": [
        "tf.random.set_seed(0)  #random seed 설정\n",
        "\n",
        "x_data = [1., 2., 3., 4.]\n",
        "y_data = [1., 3., 5., 7.]\n",
        "\n",
        "W = tf.Variable(tf.random.normal((1,), -100., 100.)) #-100부터 100 안에서 normal을 따르는, 모양이 하나짜리인 random variable\n",
        "\n",
        "for step in range(300):\n",
        "  hypothesis  = W*x\n",
        "  cost = tf.reduce_mean(tf.square(hypothesis - y))\n",
        "\n",
        "  alpha = 0.01\n",
        "  gradient = tf.reduce_mean(tf.multiply(tf.multiply(W,x)-y, x))\n",
        "  descent = W - tf.multiply(alpha, gradient)\n",
        "  W.assign(descent)\n",
        "\n",
        "  if step % 10 == 0:\n",
        "    print('{:5} | {:10.4f} | {:10.6f}'.format(\n",
        "            step, cost.numpy(), W.numpy()[0]))"
      ],
      "execution_count": null,
      "outputs": [
        {
          "output_type": "stream",
          "text": [
            "    0 | 11716.3086 |  48.767971\n",
            "   10 |  4504.9126 |  30.619968\n",
            "   20 |  1732.1364 |  19.366755\n",
            "   30 |   666.0052 |  12.388859\n",
            "   40 |   256.0785 |   8.062004\n",
            "   50 |    98.4620 |   5.379007\n",
            "   60 |    37.8586 |   3.715335\n",
            "   70 |    14.5566 |   2.683725\n",
            "   80 |     5.5970 |   2.044044\n",
            "   90 |     2.1520 |   1.647391\n",
            "  100 |     0.8275 |   1.401434\n",
            "  110 |     0.3182 |   1.248922\n",
            "  120 |     0.1223 |   1.154351\n",
            "  130 |     0.0470 |   1.095710\n",
            "  140 |     0.0181 |   1.059348\n",
            "  150 |     0.0070 |   1.036801\n",
            "  160 |     0.0027 |   1.022819\n",
            "  170 |     0.0010 |   1.014150\n",
            "  180 |     0.0004 |   1.008774\n",
            "  190 |     0.0002 |   1.005441\n",
            "  200 |     0.0001 |   1.003374\n",
            "  210 |     0.0000 |   1.002092\n",
            "  220 |     0.0000 |   1.001297\n",
            "  230 |     0.0000 |   1.000804\n",
            "  240 |     0.0000 |   1.000499\n",
            "  250 |     0.0000 |   1.000309\n",
            "  260 |     0.0000 |   1.000192\n",
            "  270 |     0.0000 |   1.000119\n",
            "  280 |     0.0000 |   1.000074\n",
            "  290 |     0.0000 |   1.000046\n"
          ],
          "name": "stdout"
        }
      ]
    },
    {
      "cell_type": "code",
      "metadata": {
        "colab": {
          "base_uri": "https://localhost:8080/"
        },
        "id": "UX0l6UcQhXMy",
        "outputId": "e0e0cb90-8529-4062-af6a-e415259f1595"
      },
      "source": [
        "# W가 특정 값을 가질 때 (W=5)\n",
        "x_data = [1., 2., 3., 4.]\n",
        "y_data = [1., 3., 5., 7.]\n",
        "\n",
        "W = tf.Variable([5.0]) \n",
        "\n",
        "for step in range(300):\n",
        "  hypothesis  = W*x\n",
        "  cost = tf.reduce_mean(tf.square(hypothesis - y))\n",
        "\n",
        "  alpha = 0.01\n",
        "  gradient = tf.reduce_mean(tf.multiply(tf.multiply(W,x)-y, x))\n",
        "  descent = W - tf.multiply(alpha, gradient)\n",
        "  W.assign(descent)\n",
        "\n",
        "  if step % 10 == 0:\n",
        "    print('{:5} | {:10.4f} | {:10.6f}'.format(\n",
        "            step, cost.numpy(), W.numpy()[0]))"
      ],
      "execution_count": null,
      "outputs": [
        {
          "output_type": "stream",
          "text": [
            "    0 |    74.6667 |   4.813334\n",
            "   10 |    28.7093 |   3.364572\n",
            "   20 |    11.0387 |   2.466224\n",
            "   30 |     4.2444 |   1.909177\n",
            "   40 |     1.6320 |   1.563762\n",
            "   50 |     0.6275 |   1.349578\n",
            "   60 |     0.2413 |   1.216766\n",
            "   70 |     0.0928 |   1.134412\n",
            "   80 |     0.0357 |   1.083346\n",
            "   90 |     0.0137 |   1.051681\n",
            "  100 |     0.0053 |   1.032047\n",
            "  110 |     0.0020 |   1.019871\n",
            "  120 |     0.0008 |   1.012322\n",
            "  130 |     0.0003 |   1.007641\n",
            "  140 |     0.0001 |   1.004738\n",
            "  150 |     0.0000 |   1.002938\n",
            "  160 |     0.0000 |   1.001822\n",
            "  170 |     0.0000 |   1.001130\n",
            "  180 |     0.0000 |   1.000700\n",
            "  190 |     0.0000 |   1.000434\n",
            "  200 |     0.0000 |   1.000269\n",
            "  210 |     0.0000 |   1.000167\n",
            "  220 |     0.0000 |   1.000103\n",
            "  230 |     0.0000 |   1.000064\n",
            "  240 |     0.0000 |   1.000040\n",
            "  250 |     0.0000 |   1.000025\n",
            "  260 |     0.0000 |   1.000015\n",
            "  270 |     0.0000 |   1.000009\n",
            "  280 |     0.0000 |   1.000006\n",
            "  290 |     0.0000 |   1.000004\n"
          ],
          "name": "stdout"
        }
      ]
    },
    {
      "cell_type": "markdown",
      "metadata": {
        "id": "rq5a9aimrUjj"
      },
      "source": [
        "# lab04. Multi-variable Linear Regression을 tensorflow로 구현하기"
      ]
    },
    {
      "cell_type": "markdown",
      "metadata": {
        "id": "vll81ARataUq"
      },
      "source": [
        "### Multi-variale linear regression"
      ]
    },
    {
      "cell_type": "code",
      "metadata": {
        "colab": {
          "base_uri": "https://localhost:8080/"
        },
        "id": "OTsrVnrVrec8",
        "outputId": "bb9bc0fb-50e6-4bb3-86ca-8a673d64726d"
      },
      "source": [
        "# data and label\n",
        "x1 = [ 73.,  93.,  89.,  96.,  73.]\n",
        "x2 = [ 80.,  88.,  91.,  98.,  66.]\n",
        "x3 = [ 75.,  93.,  90., 100.,  70.]\n",
        "Y  = [152., 185., 180., 196., 142.]\n",
        "\n",
        "#random weights\n",
        "w1 = tf.Variable(tf.random.normal((1,)))\n",
        "w2 = tf.Variable(tf.random.normal((1,)))\n",
        "w3 = tf.Variable(tf.random.normal((1,)))\n",
        "b = tf.Variable(tf.random.normal((1,)))\n",
        "\n",
        "learning_rate = 0.000001\n",
        "\n",
        "for i in range(1000+1):\n",
        "  # tf.GradientTape() : cost function의 gradient를 기록\n",
        "  with tf.GradientTape() as tape:\n",
        "    hypothesis = w1*x1 + w2*x2 + w3*x3 + b\n",
        "    cost = tf.reduce_mean(tf.square(hypothesis-Y))\n",
        "\n",
        "  #calculates the gradients of the cost\n",
        "  w1_grad, w2_grad, w3_grad, b_grad = tape.gradient(cost, [w1, w2, w3, b])\n",
        "\n",
        "  # update w1, w2, w3 and b\n",
        "  w1.assign_sub(learning_rate * w1_grad)    # w1 -= learning_rate*w1_grad와 같음\n",
        "  w2.assign_sub(learning_rate * w2_grad)\n",
        "  w3.assign_sub(learning_rate * w3_grad)\n",
        "  b.assign_sub(learning_rate * b_grad)\n",
        "\n",
        "  if i % 50 == 0:\n",
        "    print(\"{:5}|{:12.4f}\".format(i, cost.numpy()))"
      ],
      "execution_count": null,
      "outputs": [
        {
          "output_type": "stream",
          "text": [
            "    0|  24381.2793\n",
            "   50|    294.9754\n",
            "  100|     27.6518\n",
            "  150|     24.6245\n",
            "  200|     24.5302\n",
            "  250|     24.4685\n",
            "  300|     24.4074\n",
            "  350|     24.3465\n",
            "  400|     24.2856\n",
            "  450|     24.2249\n",
            "  500|     24.1646\n",
            "  550|     24.1043\n",
            "  600|     24.0441\n",
            "  650|     23.9840\n",
            "  700|     23.9243\n",
            "  750|     23.8646\n",
            "  800|     23.8051\n",
            "  850|     23.7458\n",
            "  900|     23.6866\n",
            "  950|     23.6275\n",
            " 1000|     23.5686\n"
          ],
          "name": "stdout"
        }
      ]
    },
    {
      "cell_type": "markdown",
      "metadata": {
        "id": "ztzbWLTywKkB"
      },
      "source": [
        "위에서 사용한 데이터를 행렬식으로 표현"
      ]
    },
    {
      "cell_type": "code",
      "metadata": {
        "colab": {
          "base_uri": "https://localhost:8080/"
        },
        "id": "Q8exGxx1wMp8",
        "outputId": "5040a4e7-5f83-4e8e-d385-122d1db4a3ed"
      },
      "source": [
        "data = np.array([\n",
        "    # X1,   X2,    X3,   y\n",
        "    [ 73.,  80.,  75., 152. ],\n",
        "    [ 93.,  88.,  93., 185. ],\n",
        "    [ 89.,  91.,  90., 180. ],\n",
        "    [ 96.,  98., 100., 196. ],\n",
        "    [ 73.,  66.,  70., 142. ]\n",
        "], dtype=np.float32)\n",
        "\n",
        "#slice data\n",
        "X = data[:, :-1]\n",
        "y = data[:, [-1]]\n",
        "\n",
        "#random weights\n",
        "W = tf.Variable(tf.random.normal((3,1)))\n",
        "b = tf.Variable(tf.random.normal((1,)))\n",
        "\n",
        "learning_rate = 0.000001\n",
        "\n",
        "# hypothesis, prediction function\n",
        "def predict(X):\n",
        "  return tf.matmul(X, W)+b    # 행렬곱\n",
        "\n",
        "print(\"epoch | cost\")\n",
        "\n",
        "n_epochs=2000\n",
        "\n",
        "for i in range(n_epochs+1):\n",
        "  with tf.GradientTape() as tape:\n",
        "    cost = tf.reduce_mean((tf.square(predict(X)-y)))\n",
        "\n",
        "  W_grad, b_grad = tape.gradient(cost, [W,b])\n",
        "\n",
        "  W.assign_sub(learning_rate * W_grad)\n",
        "  b.assign_sub(learning_rate * b_grad)\n",
        "\n",
        "  if i % 100 == 0:\n",
        "    print(\"{:5} | {:10.4f}\".format(i, cost.numpy()))"
      ],
      "execution_count": null,
      "outputs": [
        {
          "output_type": "stream",
          "text": [
            "epoch | cost\n",
            "    0 | 16146.4160\n",
            "  100 |    44.5399\n",
            "  200 |    42.3318\n",
            "  300 |    42.1071\n",
            "  400 |    41.8840\n",
            "  500 |    41.6620\n",
            "  600 |    41.4411\n",
            "  700 |    41.2215\n",
            "  800 |    41.0031\n",
            "  900 |    40.7858\n",
            " 1000 |    40.5698\n",
            " 1100 |    40.3548\n",
            " 1200 |    40.1410\n",
            " 1300 |    39.9285\n",
            " 1400 |    39.7170\n",
            " 1500 |    39.5068\n",
            " 1600 |    39.2977\n",
            " 1700 |    39.0895\n",
            " 1800 |    38.8826\n",
            " 1900 |    38.6768\n",
            " 2000 |    38.4721\n"
          ],
          "name": "stdout"
        }
      ]
    },
    {
      "cell_type": "markdown",
      "metadata": {
        "id": "iklhN6lq9wpn"
      },
      "source": [
        "# Lab05. Logistic Regression/Classification을 tensorflow로 구현하기"
      ]
    },
    {
      "cell_type": "code",
      "metadata": {
        "id": "aYbkC5Gp911u"
      },
      "source": [
        "tf.random.set_seed(777)"
      ],
      "execution_count": null,
      "outputs": []
    },
    {
      "cell_type": "code",
      "metadata": {
        "colab": {
          "base_uri": "https://localhost:8080/",
          "height": 279
        },
        "id": "QOdLcAMA973R",
        "outputId": "dbabffd7-c291-4fae-dffc-6ee0310b7e71"
      },
      "source": [
        "\n",
        "x_train = [[1., 2.],\n",
        "          [2., 3.],\n",
        "          [3., 1.],\n",
        "          [4., 3.],\n",
        "          [5., 3.],\n",
        "          [6., 2.]]\n",
        "y_train = [[0.],\n",
        "          [0.],\n",
        "          [0.],\n",
        "          [1.],\n",
        "          [1.],\n",
        "          [1.]]\n",
        "\n",
        "x_test = [[5.,2.]]\n",
        "y_test = [[1.]]\n",
        "\n",
        "x1 = [x[0] for x in x_train]\n",
        "x2 = [x[1] for x in x_train]\n",
        "\n",
        "colors = [int(y[0] % 3) for y in y_train]\n",
        "plt.scatter(x1,x2, c=colors , marker='^')\n",
        "plt.scatter(x_test[0][0],x_test[0][1], c=\"red\")\n",
        "\n",
        "plt.xlabel(\"x1\")\n",
        "plt.ylabel(\"x2\")\n",
        "plt.show()"
      ],
      "execution_count": null,
      "outputs": [
        {
          "output_type": "display_data",
          "data": {
            "image/png": "[encoded data removed]",
            "text/plain": [
              "<Figure size 432x288 with 1 Axes>"
            ]
          },
          "metadata": {
            "tags": [],
            "needs_background": "light"
          }
        }
      ]
    },
    {
      "cell_type": "markdown",
      "metadata": {
        "id": "WQ1orLAH-p5f"
      },
      "source": [
        "### Logistic classification\n",
        "![image.png](data:image/png;base64,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)\n",
        "\n",
        "![image.png](data:image/png;base64,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)"
      ]
    },
    {
      "cell_type": "code",
      "metadata": {
        "id": "x9eA0bKo-pUW"
      },
      "source": [
        "# dataset 생성\n",
        "#   tf.data.Dataset.from_tensor_slices:데이터 개수에 맞게 슬라이싱\n",
        "#   -> 6개의 슬라이스가 만들어지고 각 슬라이스는 1행2열, 1행임.\n",
        "#   batch : 한번에 학습시킬 size\n",
        "dataset = tf.data.Dataset.from_tensor_slices((x_train, y_train)).batch(len(x_train))\n",
        "\n",
        "# Weight & bias\n",
        "W = tf.Variable(tf.zeros([2,1]), name=\"weight\")\n",
        "b = tf.Variable(tf.zeros([1]), name='bias')\n",
        "\n",
        "\n",
        "#sigmoid 함수를 가설로 선언함\n",
        "def logistic_regression(features):\n",
        "  hypothesis = tf.divide(1., 1.+tf.exp(-tf.matmul(features, W)+b))\n",
        "  return hypothesis\n",
        "\n",
        "\n",
        "#cost 함수 정의\n",
        "def loss_fn(hypothesis, labels):\n",
        "  cost = -tf.reduce_mean(labels*tf.math.log(hypothesis) + (1-labels)*tf.math.log(1-hypothesis))\n",
        "  return cost\n",
        "\n",
        "optimizer = tf.keras.optimizers.SGD(learning_rate = 0.01) #SGD:확률적경사하강법\n",
        "\n",
        "\n",
        "# 0.5와 비교하여 1 또는 0 출력 + 실제 값과 비교하여 정확도 측정\n",
        "def accuracy_fn(hypothesis, labels):\n",
        "  predicte = tf.cast(hypothesis >0.5, dtype=tf.float32)\n",
        "  accuracy = tf.reduce_mean(tf.cast(tf.equal(predicte, labels), dtype=tf.int32))\n",
        "  return accuracy\n",
        "\n",
        "\n",
        "#gradient 계산 함수\n",
        "def grad(features, labels):\n",
        "  with tf.GradientTape() as tape:\n",
        "    hypothesis = logistic_regression(features)\n",
        "    loss_value = loss_fn(hypothesis, labels)\n",
        "  return tape.gradient(loss_value, [W,b])\n"
      ],
      "execution_count": null,
      "outputs": []
    },
    {
      "cell_type": "code",
      "metadata": {
        "colab": {
          "base_uri": "https://localhost:8080/"
        },
        "id": "8N6XqDiKBP5V",
        "outputId": "f7fec920-d3c5-4846-a1dc-3376e15c2bc7"
      },
      "source": [
        "## 학습\n",
        "EPOCHS = 1001\n",
        "for step in range(EPOCHS):\n",
        "  for features, labels in iter(dataset.batch(len(x_train))):\n",
        "    hypothesis = logistic_regression(features)\n",
        "    grads = grad(features, labels)\n",
        "    optimizer.apply_gradients(grads_and_vars=zip(grads, [W,b]))\n",
        "    \n",
        "    if step % 100 ==0:\n",
        "      print(\"Iter: {}, Loss: {:.4f}\".format(step, loss_fn(hypothesis,labels)))"
      ],
      "execution_count": null,
      "outputs": [
        {
          "output_type": "stream",
          "text": [
            "Iter: 0, Loss: 0.6931\n",
            "Iter: 100, Loss: 0.5781\n",
            "Iter: 200, Loss: 0.5352\n",
            "Iter: 300, Loss: 0.5056\n",
            "Iter: 400, Loss: 0.4840\n",
            "Iter: 500, Loss: 0.4673\n",
            "Iter: 600, Loss: 0.4537\n",
            "Iter: 700, Loss: 0.4421\n",
            "Iter: 800, Loss: 0.4320\n",
            "Iter: 900, Loss: 0.4229\n",
            "Iter: 1000, Loss: 0.4145\n"
          ],
          "name": "stdout"
        }
      ]
    },
    {
      "cell_type": "code",
      "metadata": {
        "colab": {
          "base_uri": "https://localhost:8080/"
        },
        "id": "fYLPsWVZCWAm",
        "outputId": "adaedcc2-ef12-4f88-8f7b-49326fd3c63f"
      },
      "source": [
        "# test data로 검증\n",
        "test_acc = accuracy_fn(logistic_regression(x_test),y_test)\n",
        "print(\"Test Result = {}\".format(tf.cast(logistic_regression(x_test) > 0.5, dtype=tf.int32)))  \n",
        "print(\"Testset Accuracy: {:.4f}\".format(test_acc))"
      ],
      "execution_count": null,
      "outputs": [
        {
          "output_type": "stream",
          "text": [
            "Test Result = [[1]]\n",
            "Testset Accuracy: 1.0000\n"
          ],
          "name": "stdout"
        }
      ]
    },
    {
      "cell_type": "markdown",
      "metadata": {
        "id": "YZknLg9KsqWh"
      },
      "source": [
        "# Lab06-1: Softmax classifier를 Tensorflow로 구현하기"
      ]
    },
    {
      "cell_type": "code",
      "metadata": {
        "colab": {
          "base_uri": "https://localhost:8080/"
        },
        "id": "6lDGvjL8sv6g",
        "outputId": "40e19ae9-49cb-47b7-f918-295f514feda0"
      },
      "source": [
        "tf.random.set_seed(777)\n",
        "\n",
        "x_data = [[1, 2, 1, 1],\n",
        "          [2, 1, 3, 2],\n",
        "          [3, 1, 3, 4],\n",
        "          [4, 1, 5, 5],\n",
        "          [1, 7, 5, 5],\n",
        "          [1, 2, 5, 6],\n",
        "          [1, 6, 6, 6],\n",
        "          [1, 7, 7, 7]]\n",
        "y_data = [[0, 0, 1],\n",
        "          [0, 0, 1],\n",
        "          [0, 0, 1],\n",
        "          [0, 1, 0],\n",
        "          [0, 1, 0],\n",
        "          [0, 1, 0],\n",
        "          [1, 0, 0],\n",
        "          [1, 0, 0]]\n",
        "\n",
        "#데이터를 float format numpy array로 변환\n",
        "x_data = np.asarray(x_data, dtype=np.float32)\n",
        "y_data = np.asarray(y_data, dtype=np.float32)\n",
        "\n",
        "print(x_data.shape)\n",
        "print(y_data.shape)"
      ],
      "execution_count": null,
      "outputs": [
        {
          "output_type": "stream",
          "text": [
            "(8, 4)\n",
            "(8, 3)\n"
          ],
          "name": "stdout"
        }
      ]
    },
    {
      "cell_type": "code",
      "metadata": {
        "colab": {
          "base_uri": "https://localhost:8080/"
        },
        "id": "qxc6OYtwtF5s",
        "outputId": "41afef91-07c0-4085-cd53-7d81b6f24fe6"
      },
      "source": [
        "#weight, bias setting\n",
        "nb_classes = 3  #class 개수\n",
        "\n",
        "W = tf.Variable(tf.random.normal((4, nb_classes)), name='weight')\n",
        "b = tf.Variable(tf.random.normal((nb_classes,)), name='bias')\n",
        "variables=[W,b]\n",
        "\n",
        "print(W,b)"
      ],
      "execution_count": null,
      "outputs": [
        {
          "output_type": "stream",
          "text": [
            "<tf.Variable 'weight:0' shape=(4, 3) dtype=float32, numpy=\n",
            "array([[ 0.7706481 ,  0.37335402, -0.05576323],\n",
            "       [ 0.00358377, -0.5898363 ,  1.5702795 ],\n",
            "       [ 0.2460895 , -0.09918973,  1.4418385 ],\n",
            "       [ 0.3200988 ,  0.526784  , -0.7703731 ]], dtype=float32)> <tf.Variable 'bias:0' shape=(3,) dtype=float32, numpy=array([-1.3080608 , -0.13253094,  0.5513761 ], dtype=float32)>\n"
          ],
          "name": "stdout"
        }
      ]
    },
    {
      "cell_type": "code",
      "metadata": {
        "colab": {
          "base_uri": "https://localhost:8080/"
        },
        "id": "dFgF8YTctjXM",
        "outputId": "4b1d0fd2-5535-4333-8210-ffc6222454c3"
      },
      "source": [
        "# tf.nn.softmax : softmax 활성함수 계산\n",
        "#  softmax : exp(logit) / reduce_sum(exp(logit), dim)\n",
        "\n",
        "def hypothesis(X):\n",
        "  return tf.nn.softmax(tf.matmul(X,W) + b)\n",
        "\n",
        "print(hypothesis(x_data))"
      ],
      "execution_count": null,
      "outputs": [
        {
          "output_type": "stream",
          "text": [
            "tf.Tensor(\n",
            "[[1.36571964e-02 7.90162385e-03 9.78441238e-01]\n",
            " [3.92597765e-02 1.70347411e-02 9.43705440e-01]\n",
            " [3.80385250e-01 1.67723164e-01 4.51891571e-01]\n",
            " [3.23390484e-01 5.90759404e-02 6.17533624e-01]\n",
            " [3.62997389e-06 6.20727292e-08 9.99996305e-01]\n",
            " [2.62520202e-02 1.07279625e-02 9.63019967e-01]\n",
            " [1.56525111e-05 4.21802753e-07 9.99983907e-01]\n",
            " [2.94076904e-06 3.81133276e-08 9.99997020e-01]], shape=(8, 3), dtype=float32)\n"
          ],
          "name": "stdout"
        }
      ]
    },
    {
      "cell_type": "code",
      "metadata": {
        "colab": {
          "base_uri": "https://localhost:8080/"
        },
        "id": "Gtd4m94Lt585",
        "outputId": "e6c2049d-3543-49fc-9f1b-80527c76308c"
      },
      "source": [
        "## softmax onehot test\n",
        "sample_db = [[8,2,1,4]]\n",
        "sample_db = np.asarray(sample_db, dtype=np.float32)\n",
        "\n",
        "print(hypothesis(sample_db))"
      ],
      "execution_count": null,
      "outputs": [
        {
          "output_type": "stream",
          "text": [
            "tf.Tensor([[0.9302204  0.06200533 0.00777428]], shape=(1, 3), dtype=float32)\n"
          ],
          "name": "stdout"
        }
      ]
    },
    {
      "cell_type": "code",
      "metadata": {
        "colab": {
          "base_uri": "https://localhost:8080/"
        },
        "id": "zo_lbj2putNB",
        "outputId": "8591537c-b651-42db-c74b-fe3e201ae065"
      },
      "source": [
        "## cost function\n",
        "def cost_fn(X,Y):\n",
        "  logits = hypothesis(X)\n",
        "  cost = -tf.reduce_sum(Y*tf.math.log(logits), axis=1)\n",
        "  cost_mean = tf.reduce_mean(cost)\n",
        "\n",
        "  return cost_mean\n",
        "\n",
        "print(cost_fn(x_data, y_data))"
      ],
      "execution_count": null,
      "outputs": [
        {
          "output_type": "stream",
          "text": [
            "tf.Tensor(6.07932, shape=(), dtype=float32)\n"
          ],
          "name": "stdout"
        }
      ]
    },
    {
      "cell_type": "code",
      "metadata": {
        "colab": {
          "base_uri": "https://localhost:8080/"
        },
        "id": "oMUxr34rvA2m",
        "outputId": "2d869a40-8a0f-4605-84fa-985016985034"
      },
      "source": [
        "x = tf.constant(3.0) #상수값 3을 가지는 tensor를 만듦.\n",
        "with tf.GradientTape()as g:\n",
        "  g.watch(x)  #tf.Tensor인 x를 tape(여기서 g)에 기록하도록 함\n",
        "  y = x * x  #x제곱\n",
        "\n",
        "dy_dx = g.gradient(y, x)  #x제곱을 y에 대해 미분해서 2x가 됐는데 x가 3이므로 값은 6\n",
        "print(dy_dx)   "
      ],
      "execution_count": null,
      "outputs": [
        {
          "output_type": "stream",
          "text": [
            "tf.Tensor(6.0, shape=(), dtype=float32)\n"
          ],
          "name": "stdout"
        }
      ]
    },
    {
      "cell_type": "code",
      "metadata": {
        "colab": {
          "base_uri": "https://localhost:8080/"
        },
        "id": "zQTZHvf_xcnU",
        "outputId": "f5747d77-b1ca-4ac8-8fb1-88810ea47199"
      },
      "source": [
        "def grad_fn(X,Y):\n",
        "  with tf.GradientTape() as tape:\n",
        "    loss = cost_fn(X,Y)\n",
        "    grads = tape.gradient(loss, variables)\n",
        "\n",
        "    return grads\n",
        "\n",
        "print(grad_fn(x_data, y_data))"
      ],
      "execution_count": null,
      "outputs": [
        {
          "output_type": "stream",
          "text": [
            "[<tf.Tensor: shape=(4, 3), dtype=float32, numpy=\n",
            "array([[ 0.06914607, -0.6509784 ,  0.5818323 ],\n",
            "       [-1.5221257 , -1.214863  ,  2.7369885 ],\n",
            "       [-1.2473828 , -1.7611003 ,  3.008483  ],\n",
            "       [-1.2014606 , -1.8659233 ,  3.0673838 ]], dtype=float32)>, <tf.Tensor: shape=(3,), dtype=float32, numpy=array([-0.15212913, -0.34219202,  0.4943211 ], dtype=float32)>]\n"
          ],
          "name": "stdout"
        }
      ]
    },
    {
      "cell_type": "code",
      "metadata": {
        "colab": {
          "base_uri": "https://localhost:8080/"
        },
        "id": "7srkhRIYxotP",
        "outputId": "e8ef5b27-6164-40a4-c7a2-6de38b1c06ca"
      },
      "source": [
        "def fit(X, Y, epochs=2000, verbose=100):\n",
        "  optimizer = tf.keras.optimizers.SGD(learning_rate = 0.1)\n",
        "\n",
        "  for i in range(epochs):\n",
        "    grads = grad_fn(X,Y)\n",
        "    optimizer.apply_gradients(zip(grads, variables))\n",
        "    if (i==0) | ((i+1) % verbose == 0):\n",
        "      print('Loss at epoch %d: %f' %(i+1, cost_fn(X,Y).numpy()))\n",
        "\n",
        "fit(x_data, y_data)"
      ],
      "execution_count": null,
      "outputs": [
        {
          "output_type": "stream",
          "text": [
            "Loss at epoch 1: 1.607907\n",
            "Loss at epoch 100: 0.682433\n",
            "Loss at epoch 200: 0.612607\n",
            "Loss at epoch 300: 0.557165\n",
            "Loss at epoch 400: 0.507341\n",
            "Loss at epoch 500: 0.460130\n",
            "Loss at epoch 600: 0.414159\n",
            "Loss at epoch 700: 0.368730\n",
            "Loss at epoch 800: 0.323637\n",
            "Loss at epoch 900: 0.279885\n",
            "Loss at epoch 1000: 0.246333\n",
            "Loss at epoch 1100: 0.232564\n",
            "Loss at epoch 1200: 0.221432\n",
            "Loss at epoch 1300: 0.211281\n",
            "Loss at epoch 1400: 0.201986\n",
            "Loss at epoch 1500: 0.193442\n",
            "Loss at epoch 1600: 0.185563\n",
            "Loss at epoch 1700: 0.178275\n",
            "Loss at epoch 1800: 0.171515\n",
            "Loss at epoch 1900: 0.165229\n",
            "Loss at epoch 2000: 0.159370\n"
          ],
          "name": "stdout"
        }
      ]
    },
    {
      "cell_type": "code",
      "metadata": {
        "colab": {
          "base_uri": "https://localhost:8080/"
        },
        "id": "ovlKKEGGyJhD",
        "outputId": "a306676a-f795-4ec0-848e-5e389092961e"
      },
      "source": [
        "#prediction check\n",
        "sample_data = [[2,1,3,2]] # answer_label [[0,0,1]]\n",
        "sample_data = np.asarray(sample_data, dtype=np.float32)\n",
        "\n",
        "a = hypothesis(sample_data)\n",
        "\n",
        "print(a)\n",
        "print(tf.argmax(a,1))"
      ],
      "execution_count": null,
      "outputs": [
        {
          "output_type": "stream",
          "text": [
            "tf.Tensor([[0.00112729 0.08148744 0.91738534]], shape=(1, 3), dtype=float32)\n",
            "tf.Tensor([2], shape=(1,), dtype=int64)\n"
          ],
          "name": "stdout"
        }
      ]
    },
    {
      "cell_type": "code",
      "metadata": {
        "colab": {
          "base_uri": "https://localhost:8080/"
        },
        "id": "DXEJRyXLygo5",
        "outputId": "53f5c07a-66e1-479b-cd06-7aab0bd276dc"
      },
      "source": [
        "b = hypothesis(x_data)\n",
        "print(b)\n",
        "print(tf.argmax(b, 1))\n",
        "print(tf.argmax(y_data, 1)) # matches with y_data"
      ],
      "execution_count": null,
      "outputs": [
        {
          "output_type": "stream",
          "text": [
            "tf.Tensor(\n",
            "[[2.1849892e-06 1.2296573e-03 9.9876815e-01]\n",
            " [1.1272870e-03 8.1487469e-02 9.1738522e-01]\n",
            " [2.2046046e-07 1.6407272e-01 8.3592701e-01]\n",
            " [6.3633288e-06 8.5055929e-01 1.4943434e-01]\n",
            " [2.6134691e-01 7.2661781e-01 1.2035286e-02]\n",
            " [1.3774882e-01 8.6222386e-01 2.7332031e-05]\n",
            " [7.4253321e-01 2.5742996e-01 3.6859645e-05]\n",
            " [9.2206258e-01 7.7936895e-02 5.9709714e-07]], shape=(8, 3), dtype=float32)\n",
            "tf.Tensor([2 2 2 1 1 1 0 0], shape=(8,), dtype=int64)\n",
            "tf.Tensor([2 2 2 1 1 1 0 0], shape=(8,), dtype=int64)\n"
          ],
          "name": "stdout"
        }
      ]
    },
    {
      "cell_type": "markdown",
      "metadata": {
        "id": "jzylYp8Ly3rY"
      },
      "source": [
        "### 하나의 class로 만들기"
      ]
    },
    {
      "cell_type": "code",
      "metadata": {
        "id": "YRU_A7vPy50Q"
      },
      "source": [
        "class softmax_classifer(tf.keras.Model):\n",
        "    def __init__(self, nb_classes):\n",
        "        super(softmax_classifer, self).__init__()\n",
        "        self.W = tf.Variable(tf.random.normal((4, nb_classes)), name='weight')\n",
        "        self.b = tf.Variable(tf.random.normal((nb_classes,)), name='bias')\n",
        "        \n",
        "    def softmax_regression(self, X):\n",
        "        return tf.nn.softmax(tf.matmul(X, self.W) + self.b)\n",
        "    \n",
        "    def cost_fn(self, X, Y):\n",
        "        logits = self.softmax_regression(X)\n",
        "        cost = tf.reduce_mean(-tf.reduce_sum(Y * tf.math.log(logits), axis=1))        \n",
        "        return cost\n",
        "    \n",
        "    def grad_fn(self, X, Y):\n",
        "        with tf.GradientTape() as tape:\n",
        "            cost = self.cost_fn(x_data, y_data)\n",
        "            grads = tape.gradient(cost, self.variables)            \n",
        "            return grads\n",
        "    \n",
        "    def fit(self, X, Y, epochs=2000, verbose=500):\n",
        "        optimizer =  tf.keras.optimizers.SGD(learning_rate=0.1)\n",
        "\n",
        "        for i in range(epochs):\n",
        "            grads = self.grad_fn(X, Y)\n",
        "            optimizer.apply_gradients(zip(grads, self.variables))\n",
        "            if (i==0) | ((i+1)%verbose==0):\n",
        "                print('Loss at epoch %d: %f' %(i+1, self.cost_fn(X, Y).numpy()))\n",
        "            \n",
        "model = softmax_classifer(nb_classes)\n",
        "model.fit(x_data, y_data)"
      ],
      "execution_count": null,
      "outputs": []
    },
    {
      "cell_type": "markdown",
      "metadata": {
        "id": "85zROrvuzNbF"
      },
      "source": [
        "# Lab06-2. Fancy softmax classifier를 tensorflow로 구현하기     \n",
        "logit을 input값으로 받는 경우."
      ]
    },
    {
      "cell_type": "code",
      "metadata": {
        "colab": {
          "base_uri": "https://localhost:8080/",
          "height": 404
        },
        "id": "2brmuWBnzROh",
        "outputId": "43b27afd-384e-4577-bc7b-43f210418bf6"
      },
      "source": [
        "tf.random.set_seed(777)\n",
        "\n",
        "xy = np.loadtxt('data-04-zoo.csv', delimiter=',', dtype=np.float32)\n",
        "x_data = xy[:, 0:-1]\n",
        "y_data = xy[:, -1]\n",
        "\n",
        "nb_classes = 7  # 0 ~ 6\n",
        "\n",
        "# Make Y data as onehot shape\n",
        "Y_one_hot = tf.one_hot(y_data.astype(np.int32), nb_classes)\n",
        "\n",
        "print(x_data.shape, Y_one_hot.shape)"
      ],
      "execution_count": null,
      "outputs": [
        {
          "output_type": "error",
          "ename": "OSError",
          "evalue": "ignored",
          "traceback": [
            "\u001b[0;31m---------------------------------------------------------------------------\u001b[0m",
            "\u001b[0;31mOSError\u001b[0m                                   Traceback (most recent call last)",
            "\u001b[0;32m<ipython-input-2-e47dd6b5018e>\u001b[0m in \u001b[0;36m<module>\u001b[0;34m()\u001b[0m\n\u001b[1;32m      1\u001b[0m \u001b[0mtf\u001b[0m\u001b[0;34m.\u001b[0m\u001b[0mrandom\u001b[0m\u001b[0;34m.\u001b[0m\u001b[0mset_seed\u001b[0m\u001b[0;34m(\u001b[0m\u001b[0;36m777\u001b[0m\u001b[0;34m)\u001b[0m\u001b[0;34m\u001b[0m\u001b[0;34m\u001b[0m\u001b[0m\n\u001b[1;32m      2\u001b[0m \u001b[0;34m\u001b[0m\u001b[0m\n\u001b[0;32m----> 3\u001b[0;31m \u001b[0mxy\u001b[0m \u001b[0;34m=\u001b[0m \u001b[0mnp\u001b[0m\u001b[0;34m.\u001b[0m\u001b[0mloadtxt\u001b[0m\u001b[0;34m(\u001b[0m\u001b[0;34m'data-04-zoo.csv'\u001b[0m\u001b[0;34m,\u001b[0m \u001b[0mdelimiter\u001b[0m\u001b[0;34m=\u001b[0m\u001b[0;34m','\u001b[0m\u001b[0;34m,\u001b[0m \u001b[0mdtype\u001b[0m\u001b[0;34m=\u001b[0m\u001b[0mnp\u001b[0m\u001b[0;34m.\u001b[0m\u001b[0mfloat32\u001b[0m\u001b[0;34m)\u001b[0m\u001b[0;34m\u001b[0m\u001b[0;34m\u001b[0m\u001b[0m\n\u001b[0m\u001b[1;32m      4\u001b[0m \u001b[0mx_data\u001b[0m \u001b[0;34m=\u001b[0m \u001b[0mxy\u001b[0m\u001b[0;34m[\u001b[0m\u001b[0;34m:\u001b[0m\u001b[0;34m,\u001b[0m \u001b[0;36m0\u001b[0m\u001b[0;34m:\u001b[0m\u001b[0;34m-\u001b[0m\u001b[0;36m1\u001b[0m\u001b[0;34m]\u001b[0m\u001b[0;34m\u001b[0m\u001b[0;34m\u001b[0m\u001b[0m\n\u001b[1;32m      5\u001b[0m \u001b[0my_data\u001b[0m \u001b[0;34m=\u001b[0m \u001b[0mxy\u001b[0m\u001b[0;34m[\u001b[0m\u001b[0;34m:\u001b[0m\u001b[0;34m,\u001b[0m \u001b[0;34m-\u001b[0m\u001b[0;36m1\u001b[0m\u001b[0;34m]\u001b[0m\u001b[0;34m\u001b[0m\u001b[0;34m\u001b[0m\u001b[0m\n",
            "\u001b[0;32m/usr/local/lib/python3.7/dist-packages/numpy/lib/npyio.py\u001b[0m in \u001b[0;36mloadtxt\u001b[0;34m(fname, dtype, comments, delimiter, converters, skiprows, usecols, unpack, ndmin, encoding, max_rows)\u001b[0m\n\u001b[1;32m    959\u001b[0m             \u001b[0mfname\u001b[0m \u001b[0;34m=\u001b[0m \u001b[0mos_fspath\u001b[0m\u001b[0;34m(\u001b[0m\u001b[0mfname\u001b[0m\u001b[0;34m)\u001b[0m\u001b[0;34m\u001b[0m\u001b[0;34m\u001b[0m\u001b[0m\n\u001b[1;32m    960\u001b[0m         \u001b[0;32mif\u001b[0m \u001b[0m_is_string_like\u001b[0m\u001b[0;34m(\u001b[0m\u001b[0mfname\u001b[0m\u001b[0;34m)\u001b[0m\u001b[0;34m:\u001b[0m\u001b[0;34m\u001b[0m\u001b[0;34m\u001b[0m\u001b[0m\n\u001b[0;32m--> 961\u001b[0;31m             \u001b[0mfh\u001b[0m \u001b[0;34m=\u001b[0m \u001b[0mnp\u001b[0m\u001b[0;34m.\u001b[0m\u001b[0mlib\u001b[0m\u001b[0;34m.\u001b[0m\u001b[0m_datasource\u001b[0m\u001b[0;34m.\u001b[0m\u001b[0mopen\u001b[0m\u001b[0;34m(\u001b[0m\u001b[0mfname\u001b[0m\u001b[0;34m,\u001b[0m \u001b[0;34m'rt'\u001b[0m\u001b[0;34m,\u001b[0m \u001b[0mencoding\u001b[0m\u001b[0;34m=\u001b[0m\u001b[0mencoding\u001b[0m\u001b[0;34m)\u001b[0m\u001b[0;34m\u001b[0m\u001b[0;34m\u001b[0m\u001b[0m\n\u001b[0m\u001b[1;32m    962\u001b[0m             \u001b[0mfencoding\u001b[0m \u001b[0;34m=\u001b[0m \u001b[0mgetattr\u001b[0m\u001b[0;34m(\u001b[0m\u001b[0mfh\u001b[0m\u001b[0;34m,\u001b[0m \u001b[0;34m'encoding'\u001b[0m\u001b[0;34m,\u001b[0m \u001b[0;34m'latin1'\u001b[0m\u001b[0;34m)\u001b[0m\u001b[0;34m\u001b[0m\u001b[0;34m\u001b[0m\u001b[0m\n\u001b[1;32m    963\u001b[0m             \u001b[0mfh\u001b[0m \u001b[0;34m=\u001b[0m \u001b[0miter\u001b[0m\u001b[0;34m(\u001b[0m\u001b[0mfh\u001b[0m\u001b[0;34m)\u001b[0m\u001b[0;34m\u001b[0m\u001b[0;34m\u001b[0m\u001b[0m\n",
            "\u001b[0;32m/usr/local/lib/python3.7/dist-packages/numpy/lib/_datasource.py\u001b[0m in \u001b[0;36mopen\u001b[0;34m(path, mode, destpath, encoding, newline)\u001b[0m\n\u001b[1;32m    193\u001b[0m \u001b[0;34m\u001b[0m\u001b[0m\n\u001b[1;32m    194\u001b[0m     \u001b[0mds\u001b[0m \u001b[0;34m=\u001b[0m \u001b[0mDataSource\u001b[0m\u001b[0;34m(\u001b[0m\u001b[0mdestpath\u001b[0m\u001b[0;34m)\u001b[0m\u001b[0;34m\u001b[0m\u001b[0;34m\u001b[0m\u001b[0m\n\u001b[0;32m--> 195\u001b[0;31m     \u001b[0;32mreturn\u001b[0m \u001b[0mds\u001b[0m\u001b[0;34m.\u001b[0m\u001b[0mopen\u001b[0m\u001b[0;34m(\u001b[0m\u001b[0mpath\u001b[0m\u001b[0;34m,\u001b[0m \u001b[0mmode\u001b[0m\u001b[0;34m,\u001b[0m \u001b[0mencoding\u001b[0m\u001b[0;34m=\u001b[0m\u001b[0mencoding\u001b[0m\u001b[0;34m,\u001b[0m \u001b[0mnewline\u001b[0m\u001b[0;34m=\u001b[0m\u001b[0mnewline\u001b[0m\u001b[0;34m)\u001b[0m\u001b[0;34m\u001b[0m\u001b[0;34m\u001b[0m\u001b[0m\n\u001b[0m\u001b[1;32m    196\u001b[0m \u001b[0;34m\u001b[0m\u001b[0m\n\u001b[1;32m    197\u001b[0m \u001b[0;34m\u001b[0m\u001b[0m\n",
            "\u001b[0;32m/usr/local/lib/python3.7/dist-packages/numpy/lib/_datasource.py\u001b[0m in \u001b[0;36mopen\u001b[0;34m(self, path, mode, encoding, newline)\u001b[0m\n\u001b[1;32m    533\u001b[0m                                       encoding=encoding, newline=newline)\n\u001b[1;32m    534\u001b[0m         \u001b[0;32melse\u001b[0m\u001b[0;34m:\u001b[0m\u001b[0;34m\u001b[0m\u001b[0;34m\u001b[0m\u001b[0m\n\u001b[0;32m--> 535\u001b[0;31m             \u001b[0;32mraise\u001b[0m \u001b[0mIOError\u001b[0m\u001b[0;34m(\u001b[0m\u001b[0;34m\"%s not found.\"\u001b[0m \u001b[0;34m%\u001b[0m \u001b[0mpath\u001b[0m\u001b[0;34m)\u001b[0m\u001b[0;34m\u001b[0m\u001b[0;34m\u001b[0m\u001b[0m\n\u001b[0m\u001b[1;32m    536\u001b[0m \u001b[0;34m\u001b[0m\u001b[0m\n\u001b[1;32m    537\u001b[0m \u001b[0;34m\u001b[0m\u001b[0m\n",
            "\u001b[0;31mOSError\u001b[0m: data-04-zoo.csv not found."
          ]
        }
      ]
    },
    {
      "cell_type": "code",
      "metadata": {
        "id": "SYAal-uZ4JBq"
      },
      "source": [
        "#Weight and bias setting\n",
        "W = tf.Variable(tf.random.normal((16, nb_classes)), name='weight')\n",
        "b = tf.Variable(tf.random.normal((nb_classes,)), name='bias')\n",
        "variables = [W, b]\n",
        "\n",
        "# tf.nn.softmax computes softmax activations\n",
        "# softmax = exp(logits) / reduce_sum(exp(logits), dim)\n",
        "def logit_fn(X):\n",
        "    return tf.matmul(X, W) + b\n",
        "\n",
        "def hypothesis(X):\n",
        "    return tf.nn.softmax(logit_fn(X))\n",
        "\n",
        "def cost_fn(X, Y):\n",
        "    logits = logit_fn(X)\n",
        "    cost_i = tf.keras.losses.categorical_crossentropy(y_true=Y, y_pred=logits, \n",
        "                                                      from_logits=True)    \n",
        "    cost = tf.reduce_mean(cost_i)    \n",
        "    return cost\n",
        "\n",
        "def grad_fn(X, Y):\n",
        "    with tf.GradientTape() as tape:\n",
        "        loss = cost_fn(X, Y)\n",
        "        grads = tape.gradient(loss, variables)\n",
        "        return grads\n",
        "    \n",
        "def prediction(X, Y):\n",
        "    pred = tf.argmax(hypothesis(X), 1)\n",
        "    correct_prediction = tf.equal(pred, tf.argmax(Y, 1))\n",
        "    accuracy = tf.reduce_mean(tf.cast(correct_prediction, tf.float32))\n",
        "\n",
        "    return accuracy"
      ],
      "execution_count": null,
      "outputs": []
    },
    {
      "cell_type": "code",
      "metadata": {
        "id": "Cvtdu69u4Kob"
      },
      "source": [
        "def fit(X, Y, epochs=1000, verbose=100):\n",
        "    optimizer =  tf.keras.optimizers.SGD(learning_rate=0.1)\n",
        "\n",
        "    for i in range(epochs):\n",
        "        grads = grad_fn(X, Y)\n",
        "        optimizer.apply_gradients(zip(grads, variables))\n",
        "        if (i==0) | ((i+1)%verbose==0):\n",
        "#             print('Loss at epoch %d: %f' %(i+1, cost_fn(X, Y).numpy()))\n",
        "            acc = prediction(X, Y).numpy()\n",
        "            loss = cost_fn(X, Y).numpy() \n",
        "            print('Steps: {} Loss: {}, Acc: {}'.format(i+1, loss, acc))\n",
        "\n",
        "fit(x_data, Y_one_hot)"
      ],
      "execution_count": null,
      "outputs": []
    },
    {
      "cell_type": "markdown",
      "metadata": {
        "id": "Hm8iPtSZNdd2"
      },
      "source": [
        "# Lab07-1: 학습률(Learning rate)"
      ]
    },
    {
      "cell_type": "code",
      "metadata": {
        "id": "OTHAt7KZNnX8"
      },
      "source": [
        "tf.random.set_seed(777)\n",
        "\n",
        "x_train = [[1, 2, 1],\n",
        "          [1, 3, 2],\n",
        "          [1, 3, 4],\n",
        "          [1, 5, 5],\n",
        "          [1, 7, 5],\n",
        "          [1, 2, 5],\n",
        "          [1, 6, 6],\n",
        "          [1, 7, 7]]\n",
        "\n",
        "y_train = [[0, 0, 1],\n",
        "          [0, 0, 1],\n",
        "          [0, 0, 1],\n",
        "          [0, 1, 0],\n",
        "          [0, 1, 0],\n",
        "          [0, 1, 0],\n",
        "          [1, 0, 0],\n",
        "          [1, 0, 0]]\n",
        "\n",
        "# Evaluation our model using this test dataset\n",
        "x_test = [[2, 1, 1],\n",
        "          [3, 1, 2],\n",
        "          [3, 3, 4]]\n",
        "y_test = [[0, 0, 1],\n",
        "          [0, 0, 1],\n",
        "          [0, 0, 1]]\n",
        "\n",
        "x1 = [x[0] for x in x_train]\n",
        "x2 = [x[1] for x in x_train]\n",
        "x3 = [x[2] for x in x_train]"
      ],
      "execution_count": null,
      "outputs": []
    },
    {
      "cell_type": "code",
      "metadata": {
        "colab": {
          "base_uri": "https://localhost:8080/",
          "height": 248
        },
        "id": "irvkkhcJN49K",
        "outputId": "4bff6936-5213-416e-8461-646fa25c5396"
      },
      "source": [
        "from mpl_toolkits.mplot3d import Axes3D\n",
        "\n",
        "fig = plt.figure()\n",
        "ax = fig.add_subplot(111, projection='3d')\n",
        "ax.scatter(x1, x2, x3, c=y_train, marker='^')\n",
        "\n",
        "ax.scatter(x_test[0][0], x_test[0][1], x_test[0][2], c=\"black\", marker='^')\n",
        "ax.scatter(x_test[1][0], x_test[1][1], x_test[1][2], c=\"black\", marker='^')\n",
        "ax.scatter(x_test[2][0], x_test[2][1], x_test[2][2], c=\"black\", marker='^')\n",
        "\n",
        "\n",
        "ax.set_xlabel('X Label')\n",
        "ax.set_ylabel('Y Label')\n",
        "ax.set_zlabel('Z Label')\n",
        "\n",
        "plt.show()"
      ],
      "execution_count": null,
      "outputs": [
        {
          "output_type": "display_data",
          "data": {
            "image/png": "[encoded data removed]",
            "text/plain": [
              "<Figure size 432x288 with 1 Axes>"
            ]
          },
          "metadata": {
            "tags": [],
            "needs_background": "light"
          }
        }
      ]
    },
    {
      "cell_type": "code",
      "metadata": {
        "id": "smTTAB6JOqMY"
      },
      "source": [
        "## 데이터 슬라이스 만들기\n",
        "dataset = tf.data.Dataset.from_tensor_slices((x_train, y_train)).batch(len(x_train))\n",
        "\n",
        "## 변수선언\n",
        "W = tf.Variable(tf.random.normal((3, 3)))\n",
        "b = tf.Variable(tf.random.normal((3,)))\n",
        "\n",
        "## softmax 함수를 가설로 선언\n",
        "def softmax_fn(features):\n",
        "    hypothesis = tf.nn.softmax(tf.matmul(features, W) + b)\n",
        "    return hypothesis\n",
        "\n",
        "\n",
        "## cost 함수 정의: cross entropy 사용\n",
        "def loss_fn(hypothesis, features, labels):\n",
        "    cost = tf.reduce_mean(-tf.reduce_sum(labels * tf.math.log(hypothesis), axis=1))\n",
        "    return cost\n",
        "\n",
        "## 정확도 측정 함수\n",
        "def accuracy_fn(hypothesis, labels):\n",
        "    prediction = tf.argmax(hypothesis, 1)\n",
        "    is_correct = tf.equal(prediction, tf.argmax(labels, 1))\n",
        "    accuracy = tf.reduce_mean(tf.cast(is_correct, tf.float32))\n",
        "    return accuracy"
      ],
      "execution_count": null,
      "outputs": []
    },
    {
      "cell_type": "markdown",
      "metadata": {
        "id": "qpPOI3IkPcWf"
      },
      "source": [
        "#### Learning rate 조절: learning decay 설정       \n",
        "- starter_learning_rate : 최초 학습시 사용될 learning rate (0.1로 설정하여 0.96씩 감소하는지 확인)\n",
        "- global_step : 현재 학습 횟수\n",
        "- decay_steps : 곱할 횟수 정의 (1000번에 마다 적용)\n",
        "- decay_rate : 기존 learning에 곱할 값\n",
        "- 적용유무 decayed_learning_rate = learning_rate * decay_rate ^ (global_step / decay_steps)"
      ]
    },
    {
      "cell_type": "code",
      "metadata": {
        "id": "R7BTe9xOPlig"
      },
      "source": [
        "is_decay = True\n",
        "starter_learning_rate = 0.1\n",
        "    \n",
        "if(is_decay):    \n",
        "    learning_rate = tf.keras.optimizers.schedules.ExponentialDecay(initial_learning_rate=starter_learning_rate,\n",
        "                                                                 decay_steps=1000,\n",
        "                                                                 decay_rate=0.96,\n",
        "                                                                 staircase=True)\n",
        "    optimizer = tf.keras.optimizers.SGD(learning_rate)\n",
        "else:\n",
        "    optimizer = tf.keras.optimizers.SGD(learning_rate=starter_learning_rate)\n",
        "\n",
        "def grad(hypothesis, features, labels):\n",
        "    with tf.GradientTape() as tape:\n",
        "        loss_value = loss_fn(softmax_fn(features),features,labels)\n",
        "    return tape.gradient(loss_value, [W,b])"
      ],
      "execution_count": null,
      "outputs": []
    },
    {
      "cell_type": "code",
      "metadata": {
        "colab": {
          "base_uri": "https://localhost:8080/"
        },
        "id": "lAGzS9_FPlnd",
        "outputId": "9bb46d53-19cf-479a-f3aa-402c5bea90e0"
      },
      "source": [
        "EPOCHS = 1001\n",
        "\n",
        "for step in range(EPOCHS):\n",
        "    for features, labels  in iter(dataset):\n",
        "        features = tf.cast(features, tf.float32)\n",
        "        labels = tf.cast(labels, tf.float32)\n",
        "        grads = grad(softmax_fn(features), features, labels)\n",
        "        optimizer.apply_gradients(grads_and_vars=zip(grads,[W,b]))\n",
        "        if step % 100 == 0:\n",
        "            print(\"Iter: {}, Loss: {:.4f}\".format(step, loss_fn(softmax_fn(features),features,labels)))\n",
        "x_test = tf.cast(x_test, tf.float32)\n",
        "y_test = tf.cast(y_test, tf.float32)\n",
        "test_acc = accuracy_fn(softmax_fn(x_test),y_test)\n",
        "print(\"Testset Accuracy: {:.4f}\".format(test_acc))"
      ],
      "execution_count": null,
      "outputs": [
        {
          "output_type": "stream",
          "text": [
            "Iter: 0, Loss: 7.8510\n",
            "Iter: 100, Loss: 0.6915\n",
            "Iter: 200, Loss: 0.5892\n",
            "Iter: 300, Loss: 0.5326\n",
            "Iter: 400, Loss: 0.4927\n",
            "Iter: 500, Loss: 0.4615\n",
            "Iter: 600, Loss: 0.4358\n",
            "Iter: 700, Loss: 0.4139\n",
            "Iter: 800, Loss: 0.3951\n",
            "Iter: 900, Loss: 0.3785\n",
            "Iter: 1000, Loss: 0.3638\n",
            "Testset Accuracy: 1.0000\n"
          ],
          "name": "stdout"
        }
      ]
    },
    {
      "cell_type": "markdown",
      "metadata": {
        "id": "n9n4qEgVU_FQ"
      },
      "source": [
        "# Lab07-3. Overfitting"
      ]
    },
    {
      "cell_type": "code",
      "metadata": {
        "colab": {
          "base_uri": "https://localhost:8080/",
          "height": 276
        },
        "id": "JDcoUg43VGem",
        "outputId": "eeaf8b86-12ba-4c57-b87e-926243ed934f"
      },
      "source": [
        "tf.random.set_seed(777)\n",
        "\n",
        "xy = np.array([[828.659973, 833.450012, 908100, 828.349976, 831.659973],\n",
        "               [823.02002, 828.070007, 1828100, 821.655029, 828.070007],\n",
        "               [819.929993, 824.400024, 1438100, 818.97998, 824.159973],\n",
        "               [816, 820.958984, 1008100, 815.48999, 819.23999],\n",
        "               [819.359985, 823, 1188100, 818.469971, 818.97998],\n",
        "               [819, 823, 1198100, 816, 820.450012],\n",
        "               [811.700012, 815.25, 1098100, 809.780029, 813.669983],\n",
        "               [809.51001, 816.659973, 1398100, 804.539978, 809.559998]])\n",
        "\n",
        "x_train = xy[:, 0:-1]\n",
        "y_train = xy[:, [-1]]\n",
        "\n",
        "plt.plot(x_train, 'ro')\n",
        "plt.plot(y_train)\n",
        "plt.show()"
      ],
      "execution_count": null,
      "outputs": [
        {
          "output_type": "display_data",
          "data": {
            "image/png": "[encoded data removed]",
            "text/plain": [
              "<Figure size 432x288 with 1 Axes>"
            ]
          },
          "metadata": {
            "tags": [],
            "needs_background": "light"
          }
        }
      ]
    },
    {
      "cell_type": "markdown",
      "metadata": {
        "id": "8LAgB2kkVV4z"
      },
      "source": [
        "#### 데이터에 정규화를 적용함 (0~1 scaling)"
      ]
    },
    {
      "cell_type": "code",
      "metadata": {
        "colab": {
          "base_uri": "https://localhost:8080/",
          "height": 406
        },
        "id": "6ki33legVIpG",
        "outputId": "c1392a45-abd4-4c50-c7be-3ef2f27d7250"
      },
      "source": [
        "## normalization 함수 만들기\n",
        "def normalization(data):\n",
        "  numerator = data - np.min(data, 0)\n",
        "  denominator = np.max(data,0) - np.min(data,0)\n",
        "  return numerator / denominator\n",
        "\n",
        "#표준화 적용\n",
        "xy = normalization(xy)\n",
        "print(xy)\n",
        "x_train = xy[:, 0:-1]\n",
        "y_train = xy[:, [-1]]\n",
        "\n",
        "plt.plot(x_train, 'ro')\n",
        "plt.plot(y_train)\n",
        "\n",
        "plt.show()"
      ],
      "execution_count": null,
      "outputs": [
        {
          "output_type": "stream",
          "text": [
            "[[1.         1.         0.         1.         1.        ]\n",
            " [0.70548491 0.70439552 1.         0.71881783 0.83755792]\n",
            " [0.54412549 0.50274824 0.57608696 0.60646801 0.6606331 ]\n",
            " [0.33890353 0.31368023 0.10869565 0.45989134 0.43800918]\n",
            " [0.51436    0.4258239  0.30434783 0.58504805 0.42624401]\n",
            " [0.49556179 0.4258239  0.31521739 0.48131134 0.49276137]\n",
            " [0.11436064 0.         0.20652174 0.22007776 0.18597238]\n",
            " [0.         0.07747099 0.5326087  0.         0.        ]]\n"
          ],
          "name": "stdout"
        },
        {
          "output_type": "display_data",
          "data": {
            "image/png": "[encoded data removed]",
            "text/plain": [
              "<Figure size 432x288 with 1 Axes>"
            ]
          },
          "metadata": {
            "tags": [],
            "needs_background": "light"
          }
        }
      ]
    },
    {
      "cell_type": "markdown",
      "metadata": {
        "id": "8z_nldJWXQpH"
      },
      "source": [
        "#### Linear 모델 만들기"
      ]
    },
    {
      "cell_type": "code",
      "metadata": {
        "id": "TcCieJYLXZZV"
      },
      "source": [
        "dataset = tf.data.Dataset.from_tensor_slices((x_train, y_train)).batch(len(x_train)) #batch size: 한번에 학습시킬 사이즈\n",
        "\n",
        "# 변수설정\n",
        "W = tf.Variable(tf.random.normal((4, 1)), dtype=tf.float32)\n",
        "b = tf.Variable(tf.random.normal((1,)), dtype=tf.float32)\n",
        "\n",
        "# 가설정의\n",
        "def linearReg_fn(features):\n",
        "  hypothesis = tf.matmul(features, W) + b\n",
        "  return hypothesis\n",
        "\n",
        "\n",
        "## L2 logg 함수정의\n",
        "def l2_loss(loss, beta=0.01):\n",
        "  W_reg = tf.nn.l2_loss(W)  # sum(t^2)/2\n",
        "  loss = tf.reduce_mean(loss+W_reg*beta)\n",
        "  return loss\n",
        "\n",
        "\n",
        "## 가설 검증할 cost 함수 정의\n",
        "def loss_fn(hypothesis, features, labels, flag=False):\n",
        "  cost = tf.reduce_mean(tf.square(hypothesis - labels))\n",
        "  if(flag):\n",
        "    cost = l2_loss(cost)\n",
        "  return cost\n",
        "\n",
        "\n",
        "## learning rate decay 설정\n",
        "is_decay = True\n",
        "starter_learning_rate = 0.1\n",
        "\n",
        "if(is_decay):    \n",
        "    learning_rate = tf.keras.optimizers.schedules.ExponentialDecay(initial_learning_rate=starter_learning_rate,\n",
        "                                                                  decay_steps=50,\n",
        "                                                                  decay_rate=0.96,\n",
        "                                                                  staircase=True)\n",
        "    optimizer = tf.keras.optimizers.SGD(learning_rate)\n",
        "else:\n",
        "    optimizer = tf.keras.optimizers.SGD(learning_rate=starter_learning_rate)\n",
        "\n",
        "def grad(hypothesis, features, labels, l2_flag):\n",
        "    with tf.GradientTape() as tape:\n",
        "        loss_value = loss_fn(linearReg_fn(features),features,labels, l2_flag)\n",
        "    return tape.gradient(loss_value, [W,b]), loss_value"
      ],
      "execution_count": null,
      "outputs": []
    },
    {
      "cell_type": "markdown",
      "metadata": {
        "id": "ae3rFG91Y21k"
      },
      "source": [
        "#### 학습"
      ]
    },
    {
      "cell_type": "code",
      "metadata": {
        "colab": {
          "base_uri": "https://localhost:8080/"
        },
        "id": "IQKRnZG_Y12E",
        "outputId": "3671bdab-0b16-4c80-d20a-33e3f655d1dc"
      },
      "source": [
        "EPOCHS = 101\n",
        "\n",
        "for step in range(EPOCHS):\n",
        "    for features, labels  in dataset:\n",
        "        features = tf.cast(features, tf.float32)\n",
        "        labels = tf.cast(labels, tf.float32)\n",
        "        grads, loss_value = grad(linearReg_fn(features), features, labels, False)\n",
        "        optimizer.apply_gradients(grads_and_vars=zip(grads,[W,b]))        \n",
        "    if step % 10 == 0:\n",
        "        print(\"Iter: {}, Loss: {:.4f}\".format(step, loss_value))"
      ],
      "execution_count": null,
      "outputs": [
        {
          "output_type": "stream",
          "text": [
            "Iter: 0, Loss: 1.7346\n",
            "Iter: 10, Loss: 0.0745\n",
            "Iter: 20, Loss: 0.0438\n",
            "Iter: 30, Loss: 0.0273\n",
            "Iter: 40, Loss: 0.0181\n",
            "Iter: 50, Loss: 0.0128\n",
            "Iter: 60, Loss: 0.0099\n",
            "Iter: 70, Loss: 0.0080\n",
            "Iter: 80, Loss: 0.0068\n",
            "Iter: 90, Loss: 0.0060\n",
            "Iter: 100, Loss: 0.0054\n"
          ],
          "name": "stdout"
        }
      ]
    },
    {
      "cell_type": "markdown",
      "metadata": {
        "id": "2cFnoB_gdj5Z"
      },
      "source": [
        "#Lab07-4 MNIST introduction"
      ]
    },
    {
      "cell_type": "code",
      "metadata": {
        "colab": {
          "base_uri": "https://localhost:8080/"
        },
        "id": "NWXm44ycdnbS",
        "outputId": "ccff574a-d942-4823-be74-6018fe9b9cac"
      },
      "source": [
        "# data\n",
        "tf.random.set_seed(777)\n",
        "mnist = tf.keras.datasets.mnist\n",
        "\n",
        "(x_train, y_train), (x_test, y_test) = mnist.load_data()\n",
        "x_train, x_test = x_train/255.0, x_test / 255.0  # x 데이터 정규화"
      ],
      "execution_count": null,
      "outputs": [
        {
          "output_type": "stream",
          "text": [
            "Downloading data from https://storage.googleapis.com/tensorflow/tf-keras-datasets/mnist.npz\n",
            "11493376/11490434 [==============================] - 0s 0us/step\n"
          ],
          "name": "stdout"
        }
      ]
    },
    {
      "cell_type": "markdown",
      "metadata": {
        "id": "jvKeZ-k_eCh6"
      },
      "source": [
        "#### Tensorflow Keras"
      ]
    },
    {
      "cell_type": "markdown",
      "metadata": {
        "id": "lFnCBnIMeF5h"
      },
      "source": [
        "- 모델 정의"
      ]
    },
    {
      "cell_type": "code",
      "metadata": {
        "id": "itaCMgxneD5M"
      },
      "source": [
        "model = tf.keras.models.Sequential([\n",
        "  tf.keras.layers.Flatten(),\n",
        "  tf.keras.layers.Dense(512, activation=tf.nn.relu),\n",
        "  tf.keras.layers.Dropout(0.2),\n",
        "  tf.keras.layers.Dense(10, activation=tf.nn.softmax)                                    \n",
        "])"
      ],
      "execution_count": null,
      "outputs": []
    },
    {
      "cell_type": "markdown",
      "metadata": {
        "id": "huCklOjYeet0"
      },
      "source": [
        "- Adam optimizer와 cross entropy loss 선언"
      ]
    },
    {
      "cell_type": "code",
      "metadata": {
        "id": "wNm2gUAueh9r"
      },
      "source": [
        "model.compile(optimizer='adam',\n",
        "              loss='sparse_categorical_crossentropy',\n",
        "              metrics=['accuracy'])"
      ],
      "execution_count": null,
      "outputs": []
    },
    {
      "cell_type": "markdown",
      "metadata": {
        "id": "LHm5Zhb7esCU"
      },
      "source": [
        "- 5 epoch로 학습 수행"
      ]
    },
    {
      "cell_type": "code",
      "metadata": {
        "colab": {
          "base_uri": "https://localhost:8080/"
        },
        "id": "olaNuRveevm6",
        "outputId": "d77617fb-6920-450b-c06d-5004d85c83cf"
      },
      "source": [
        "model.fit(x_train, y_train, epochs=5)"
      ],
      "execution_count": null,
      "outputs": [
        {
          "output_type": "stream",
          "text": [
            "Epoch 1/5\n",
            "1875/1875 [==============================] - 10s 5ms/step - loss: 0.2176 - accuracy: 0.9352\n",
            "Epoch 2/5\n",
            "1875/1875 [==============================] - 9s 5ms/step - loss: 0.0966 - accuracy: 0.9705\n",
            "Epoch 3/5\n",
            "1875/1875 [==============================] - 9s 5ms/step - loss: 0.0669 - accuracy: 0.9791\n",
            "Epoch 4/5\n",
            "1875/1875 [==============================] - 9s 5ms/step - loss: 0.0542 - accuracy: 0.9828\n",
            "Epoch 5/5\n",
            "1875/1875 [==============================] - 10s 5ms/step - loss: 0.0445 - accuracy: 0.9861\n"
          ],
          "name": "stdout"
        },
        {
          "output_type": "execute_result",
          "data": {
            "text/plain": [
              "<tensorflow.python.keras.callbacks.History at 0x7f03768a3050>"
            ]
          },
          "metadata": {
            "tags": []
          },
          "execution_count": 27
        }
      ]
    },
    {
      "cell_type": "markdown",
      "metadata": {
        "id": "CL4-GwNme0Q7"
      },
      "source": [
        "- test data로 모델 평가"
      ]
    },
    {
      "cell_type": "code",
      "metadata": {
        "colab": {
          "base_uri": "https://localhost:8080/"
        },
        "id": "ooEfGUTMe2MD",
        "outputId": "be47ab3b-14a4-4781-c5b0-4cfce57aca04"
      },
      "source": [
        "model.evaluate(x_test, y_test)"
      ],
      "execution_count": null,
      "outputs": [
        {
          "output_type": "stream",
          "text": [
            "313/313 [==============================] - 1s 3ms/step - loss: 0.0703 - accuracy: 0.9797\n"
          ],
          "name": "stdout"
        },
        {
          "output_type": "execute_result",
          "data": {
            "text/plain": [
              "[0.07025158405303955, 0.9797000288963318]"
            ]
          },
          "metadata": {
            "tags": []
          },
          "execution_count": 28
        }
      ]
    },
    {
      "cell_type": "markdown",
      "metadata": {
        "id": "asA1gLW1hBvq"
      },
      "source": [
        "#Lab07-5 Fashion MNIST introduction"
      ]
    },
    {
      "cell_type": "code",
      "metadata": {
        "colab": {
          "base_uri": "https://localhost:8080/"
        },
        "id": "HZWYA8bOhE_0",
        "outputId": "a4eb95c7-ab4b-4448-9e6b-41c0defd2024"
      },
      "source": [
        "tf.random.set_seed(777)\n",
        "\n",
        "fashion_mnist = tf.keras.datasets.fashion_mnist\n",
        "\n",
        "(train_images, train_labels), (test_images, test_labels) = fashion_mnist.load_data()\n",
        "\n",
        "class_names = ['T-shirt/top', 'Trouser', 'Pullover', 'Dress', 'Coat',\n",
        "               'Sandal', 'Shirt', 'Sneaker', 'Bag', 'Ankle boot']"
      ],
      "execution_count": null,
      "outputs": [
        {
          "output_type": "stream",
          "text": [
            "Downloading data from https://storage.googleapis.com/tensorflow/tf-keras-datasets/train-labels-idx1-ubyte.gz\n",
            "32768/29515 [=================================] - 0s 0us/step\n",
            "Downloading data from https://storage.googleapis.com/tensorflow/tf-keras-datasets/train-images-idx3-ubyte.gz\n",
            "26427392/26421880 [==============================] - 0s 0us/step\n",
            "Downloading data from https://storage.googleapis.com/tensorflow/tf-keras-datasets/t10k-labels-idx1-ubyte.gz\n",
            "8192/5148 [===============================================] - 0s 0us/step\n",
            "Downloading data from https://storage.googleapis.com/tensorflow/tf-keras-datasets/t10k-images-idx3-ubyte.gz\n",
            "4423680/4422102 [==============================] - 0s 0us/step\n"
          ],
          "name": "stdout"
        }
      ]
    },
    {
      "cell_type": "code",
      "metadata": {
        "colab": {
          "base_uri": "https://localhost:8080/",
          "height": 265
        },
        "id": "r_JH-rEmhP-W",
        "outputId": "34700ea6-8d97-4589-aa1e-47925258bbe8"
      },
      "source": [
        "plt.figure()\n",
        "plt.imshow(train_images[3])\n",
        "plt.colorbar()\n",
        "plt.grid(False)"
      ],
      "execution_count": null,
      "outputs": [
        {
          "output_type": "display_data",
          "data": {
            "image/png": "[encoded data removed]",
            "text/plain": [
              "<Figure size 432x288 with 2 Axes>"
            ]
          },
          "metadata": {
            "tags": [],
            "needs_background": "light"
          }
        }
      ]
    },
    {
      "cell_type": "code",
      "metadata": {
        "colab": {
          "base_uri": "https://localhost:8080/"
        },
        "id": "c-ZqQEZFhmEh",
        "outputId": "4e2ef9ef-cc29-4c1a-df47-f471fe53668e"
      },
      "source": [
        "train_images.shape"
      ],
      "execution_count": null,
      "outputs": [
        {
          "output_type": "execute_result",
          "data": {
            "text/plain": [
              "(60000, 28, 28)"
            ]
          },
          "metadata": {
            "tags": []
          },
          "execution_count": 34
        }
      ]
    },
    {
      "cell_type": "code",
      "metadata": {
        "colab": {
          "base_uri": "https://localhost:8080/",
          "height": 589
        },
        "id": "c1jNi0UShhgm",
        "outputId": "a8d463d0-4b3c-495f-9a9c-8229ffcfc818"
      },
      "source": [
        "# 0~1 사이의 값으로 데이터 정규화\n",
        "train_images = train_images / 255.0\n",
        "test_images = test_images / 255.0\n",
        "\n",
        "plt.figure(figsize=(10,10))\n",
        "for i in range(25):\n",
        "    plt.subplot(5,5,i+1)\n",
        "    plt.xticks([])\n",
        "    plt.yticks([])\n",
        "    plt.grid(False)\n",
        "    plt.imshow(train_images[i], cmap=plt.cm.binary)\n",
        "    plt.xlabel(class_names[train_labels[i]])"
      ],
      "execution_count": null,
      "outputs": [
        {
          "output_type": "display_data",
          "data": {
            "image/png": "[encoded data removed]",
            "text/plain": [
              "<Figure size 720x720 with 25 Axes>"
            ]
          },
          "metadata": {
            "tags": []
          }
        }
      ]
    },
    {
      "cell_type": "markdown",
      "metadata": {
        "id": "l_XNeVG6hhFU"
      },
      "source": [
        "- 모델 정의"
      ]
    },
    {
      "cell_type": "code",
      "metadata": {
        "id": "3SNPX43jhwTO"
      },
      "source": [
        "model = tf.keras.Sequential([\n",
        "    tf.keras.layers.Flatten(input_shape=(28, 28)),  #image 사이즈\n",
        "    tf.keras.layers.Dense(128, activation=tf.nn.relu),\n",
        "    tf.keras.layers.Dense(10, activation=tf.nn.softmax)\n",
        "])"
      ],
      "execution_count": null,
      "outputs": []
    },
    {
      "cell_type": "markdown",
      "metadata": {
        "id": "moN44bMOh9ig"
      },
      "source": [
        "- adam optimizer와 cross entropy loss 선언"
      ]
    },
    {
      "cell_type": "code",
      "metadata": {
        "id": "JWNatiX8iARs"
      },
      "source": [
        "model.compile(optimizer='adam',\n",
        "              loss='sparse_categorical_crossentropy',\n",
        "              metrics=['accuracy'])"
      ],
      "execution_count": null,
      "outputs": []
    },
    {
      "cell_type": "markdown",
      "metadata": {
        "id": "n5la2lM3iDbn"
      },
      "source": [
        "- 학습 수행"
      ]
    },
    {
      "cell_type": "code",
      "metadata": {
        "colab": {
          "base_uri": "https://localhost:8080/"
        },
        "id": "2SvKQxpkiC7v",
        "outputId": "79012443-64f7-4199-94fd-7319c15dec9d"
      },
      "source": [
        "model.fit(train_images, train_labels, epochs=5)"
      ],
      "execution_count": null,
      "outputs": [
        {
          "output_type": "stream",
          "text": [
            "Epoch 1/5\n",
            "1875/1875 [==============================] - 5s 2ms/step - loss: 0.5064 - accuracy: 0.8232\n",
            "Epoch 2/5\n",
            "1875/1875 [==============================] - 4s 2ms/step - loss: 0.3782 - accuracy: 0.8634\n",
            "Epoch 3/5\n",
            "1875/1875 [==============================] - 4s 2ms/step - loss: 0.3396 - accuracy: 0.8760\n",
            "Epoch 4/5\n",
            "1875/1875 [==============================] - 4s 2ms/step - loss: 0.3135 - accuracy: 0.8850\n",
            "Epoch 5/5\n",
            "1875/1875 [==============================] - 4s 2ms/step - loss: 0.2939 - accuracy: 0.8904\n"
          ],
          "name": "stdout"
        },
        {
          "output_type": "execute_result",
          "data": {
            "text/plain": [
              "<tensorflow.python.keras.callbacks.History at 0x7f0370389090>"
            ]
          },
          "metadata": {
            "tags": []
          },
          "execution_count": 40
        }
      ]
    },
    {
      "cell_type": "markdown",
      "metadata": {
        "id": "da7QjyjSiJMh"
      },
      "source": [
        "- test 데이터로 평가"
      ]
    },
    {
      "cell_type": "code",
      "metadata": {
        "colab": {
          "base_uri": "https://localhost:8080/"
        },
        "id": "65GbQ2kLiLRP",
        "outputId": "ca34e922-fb0a-4eec-d696-d5a2f66cfb7d"
      },
      "source": [
        "test_loss, test_acc = model.evaluate(test_images, test_labels)\n",
        "\n",
        "print('Test accuracy:', test_acc)"
      ],
      "execution_count": null,
      "outputs": [
        {
          "output_type": "stream",
          "text": [
            "313/313 [==============================] - 0s 1ms/step - loss: 0.3588 - accuracy: 0.8748\n",
            "Test accuracy: 0.8748000264167786\n"
          ],
          "name": "stdout"
        }
      ]
    },
    {
      "cell_type": "code",
      "metadata": {
        "colab": {
          "base_uri": "https://localhost:8080/"
        },
        "id": "KkbnFPFwi2Lf",
        "outputId": "07413bd5-fae8-4c12-915a-3898b1aab920"
      },
      "source": [
        "predictions=model.predict(test_images)\n",
        "np.argmax(predictions[0])"
      ],
      "execution_count": null,
      "outputs": [
        {
          "output_type": "execute_result",
          "data": {
            "text/plain": [
              "9"
            ]
          },
          "metadata": {
            "tags": []
          },
          "execution_count": 44
        }
      ]
    },
    {
      "cell_type": "markdown",
      "metadata": {
        "id": "85a1ICVyjO7_"
      },
      "source": [
        "# Lab07-6 IMDB introduction       \n",
        ": 50,000 movie reviews from the internet movie database (10000개의 빈도수가 높은 단어를 학습 vector로 사용한다.)        \n",
        "긍정 review와 부정 review를 분류"
      ]
    },
    {
      "cell_type": "code",
      "metadata": {
        "colab": {
          "base_uri": "https://localhost:8080/"
        },
        "id": "mqQRxfWAjSHL",
        "outputId": "93625314-f8db-4fd6-b591-2f2d1d73f378"
      },
      "source": [
        "imdb = tf.keras.datasets.imdb\n",
        "(train_data, train_labels), (test_data, test_labels) = imdb.load_data(num_words=10000)\n",
        "print(\"Training entries: {}, labels: {}\".format(len(train_data), len(train_labels)))\n",
        "print(train_data[0])"
      ],
      "execution_count": null,
      "outputs": [
        {
          "output_type": "stream",
          "text": [
            "Downloading data from https://storage.googleapis.com/tensorflow/tf-keras-datasets/imdb.npz\n",
            "17465344/17464789 [==============================] - 0s 0us/step\n"
          ],
          "name": "stdout"
        },
        {
          "output_type": "stream",
          "text": [
            "<string>:6: VisibleDeprecationWarning: Creating an ndarray from ragged nested sequences (which is a list-or-tuple of lists-or-tuples-or ndarrays with different lengths or shapes) is deprecated. If you meant to do this, you must specify 'dtype=object' when creating the ndarray\n",
            "/usr/local/lib/python3.7/dist-packages/tensorflow/python/keras/datasets/imdb.py:155: VisibleDeprecationWarning: Creating an ndarray from ragged nested sequences (which is a list-or-tuple of lists-or-tuples-or ndarrays with different lengths or shapes) is deprecated. If you meant to do this, you must specify 'dtype=object' when creating the ndarray\n",
            "  x_train, y_train = np.array(xs[:idx]), np.array(labels[:idx])\n"
          ],
          "name": "stderr"
        },
        {
          "output_type": "stream",
          "text": [
            "Training entries: 25000, labels: 25000\n",
            "[1, 14, 22, 16, 43, 530, 973, 1622, 1385, 65, 458, 4468, 66, 3941, 4, 173, 36, 256, 5, 25, 100, 43, 838, 112, 50, 670, 2, 9, 35, 480, 284, 5, 150, 4, 172, 112, 167, 2, 336, 385, 39, 4, 172, 4536, 1111, 17, 546, 38, 13, 447, 4, 192, 50, 16, 6, 147, 2025, 19, 14, 22, 4, 1920, 4613, 469, 4, 22, 71, 87, 12, 16, 43, 530, 38, 76, 15, 13, 1247, 4, 22, 17, 515, 17, 12, 16, 626, 18, 2, 5, 62, 386, 12, 8, 316, 8, 106, 5, 4, 2223, 5244, 16, 480, 66, 3785, 33, 4, 130, 12, 16, 38, 619, 5, 25, 124, 51, 36, 135, 48, 25, 1415, 33, 6, 22, 12, 215, 28, 77, 52, 5, 14, 407, 16, 82, 2, 8, 4, 107, 117, 5952, 15, 256, 4, 2, 7, 3766, 5, 723, 36, 71, 43, 530, 476, 26, 400, 317, 46, 7, 4, 2, 1029, 13, 104, 88, 4, 381, 15, 297, 98, 32, 2071, 56, 26, 141, 6, 194, 7486, 18, 4, 226, 22, 21, 134, 476, 26, 480, 5, 144, 30, 5535, 18, 51, 36, 28, 224, 92, 25, 104, 4, 226, 65, 16, 38, 1334, 88, 12, 16, 283, 5, 16, 4472, 113, 103, 32, 15, 16, 5345, 19, 178, 32]\n"
          ],
          "name": "stdout"
        },
        {
          "output_type": "stream",
          "text": [
            "/usr/local/lib/python3.7/dist-packages/tensorflow/python/keras/datasets/imdb.py:156: VisibleDeprecationWarning: Creating an ndarray from ragged nested sequences (which is a list-or-tuple of lists-or-tuples-or ndarrays with different lengths or shapes) is deprecated. If you meant to do this, you must specify 'dtype=object' when creating the ndarray\n",
            "  x_test, y_test = np.array(xs[idx:]), np.array(labels[idx:])\n"
          ],
          "name": "stderr"
        }
      ]
    },
    {
      "cell_type": "markdown",
      "metadata": {
        "id": "zvHlRqxyDJ9S"
      },
      "source": [
        "IMDB data의 vector를 실제 값으로 변환하여 출력"
      ]
    },
    {
      "cell_type": "code",
      "metadata": {
        "colab": {
          "base_uri": "https://localhost:8080/",
          "height": 123
        },
        "id": "Ar0okLQBDPn3",
        "outputId": "36f99c9c-44c1-419d-a70d-364ee5cdf1c3"
      },
      "source": [
        "# A dictionary mapping words to an integer index\n",
        "word_index = imdb.get_word_index()\n",
        "\n",
        "# The first indices are reserved\n",
        "word_index = {k:(v+3) for k,v in word_index.items()}\n",
        "word_index[\"<PAD>\"] = 0  # 공백값을 벡터로지정\n",
        "word_index[\"<START>\"] = 1 #시작값을 벡터로 지정\n",
        "word_index[\"<UNK>\"] = 2  # unknown\n",
        "word_index[\"<UNUSED>\"] = 3 #사용 안하는 단어\n",
        "\n",
        "reverse_word_index = dict([(value, key) for (key, value) in word_index.items()])\n",
        "\n",
        "def decode_review(text):\n",
        "    return ' '.join([reverse_word_index.get(i, '?') for i in text])\n",
        "\n",
        "decode_review(train_data[4])"
      ],
      "execution_count": null,
      "outputs": [
        {
          "output_type": "stream",
          "text": [
            "Downloading data from https://storage.googleapis.com/tensorflow/tf-keras-datasets/imdb_word_index.json\n",
            "1646592/1641221 [==============================] - 0s 0us/step\n"
          ],
          "name": "stdout"
        },
        {
          "output_type": "execute_result",
          "data": {
            "application/vnd.google.colaboratory.intrinsic+json": {
              "type": "string"
            },
            "text/plain": [
              "\"<START> worst mistake of my life br br i picked this movie up at target for 5 because i figured hey it's sandler i can get some cheap laughs i was wrong completely wrong mid way through the film all three of my friends were asleep and i was still suffering worst plot worst script worst movie i have ever seen i wanted to hit my head up against a wall for an hour then i'd stop and you know why because it felt damn good upon bashing my head in i stuck that damn movie in the <UNK> and watched it burn and that felt better than anything else i've ever done it took american psycho army of darkness and kill bill just to get over that crap i hate you sandler for actually going through with this and ruining a whole day of my life\""
            ]
          },
          "metadata": {
            "tags": []
          },
          "execution_count": 5
        }
      ]
    },
    {
      "cell_type": "code",
      "metadata": {
        "colab": {
          "base_uri": "https://localhost:8080/"
        },
        "id": "lqmnnGnADekW",
        "outputId": "0ec2b76f-59a9-4132-e11b-081649760d8a"
      },
      "source": [
        "print(train_labels[4])"
      ],
      "execution_count": null,
      "outputs": [
        {
          "output_type": "stream",
          "text": [
            "0\n"
          ],
          "name": "stdout"
        }
      ]
    },
    {
      "cell_type": "markdown",
      "metadata": {
        "id": "x3Im0fHCDmam"
      },
      "source": [
        "- preprocessing: 학습 및 평가를 위해 256 길이의 단어로 PAD 값을 준다. (뒤의 길이는 0으로 맞춤)"
      ]
    },
    {
      "cell_type": "code",
      "metadata": {
        "colab": {
          "base_uri": "https://localhost:8080/"
        },
        "id": "cDUZYnXVDtAP",
        "outputId": "da4261fe-e918-49ab-81bb-9d7b9e56fd50"
      },
      "source": [
        "train_data = tf.keras.preprocessing.sequence.pad_sequences(train_data,\n",
        "                                                        value=word_index[\"<PAD>\"],\n",
        "                                                        padding='post',\n",
        "                                                        maxlen=256)\n",
        "\n",
        "test_data = tf.keras.preprocessing.sequence.pad_sequences(test_data,\n",
        "                                                       value=word_index[\"<PAD>\"],\n",
        "                                                       padding='post',\n",
        "                                                       maxlen=256)\n",
        "\n",
        "print(len(train_data[0]), len(test_data[0]))\n",
        "print(train_data[0])"
      ],
      "execution_count": null,
      "outputs": [
        {
          "output_type": "stream",
          "text": [
            "256 256\n",
            "[   1   14   22   16   43  530  973 1622 1385   65  458 4468   66 3941\n",
            "    4  173   36  256    5   25  100   43  838  112   50  670    2    9\n",
            "   35  480  284    5  150    4  172  112  167    2  336  385   39    4\n",
            "  172 4536 1111   17  546   38   13  447    4  192   50   16    6  147\n",
            " 2025   19   14   22    4 1920 4613  469    4   22   71   87   12   16\n",
            "   43  530   38   76   15   13 1247    4   22   17  515   17   12   16\n",
            "  626   18    2    5   62  386   12    8  316    8  106    5    4 2223\n",
            " 5244   16  480   66 3785   33    4  130   12   16   38  619    5   25\n",
            "  124   51   36  135   48   25 1415   33    6   22   12  215   28   77\n",
            "   52    5   14  407   16   82    2    8    4  107  117 5952   15  256\n",
            "    4    2    7 3766    5  723   36   71   43  530  476   26  400  317\n",
            "   46    7    4    2 1029   13  104   88    4  381   15  297   98   32\n",
            " 2071   56   26  141    6  194 7486   18    4  226   22   21  134  476\n",
            "   26  480    5  144   30 5535   18   51   36   28  224   92   25  104\n",
            "    4  226   65   16   38 1334   88   12   16  283    5   16 4472  113\n",
            "  103   32   15   16 5345   19  178   32    0    0    0    0    0    0\n",
            "    0    0    0    0    0    0    0    0    0    0    0    0    0    0\n",
            "    0    0    0    0    0    0    0    0    0    0    0    0    0    0\n",
            "    0    0    0    0]\n"
          ],
          "name": "stdout"
        }
      ]
    },
    {
      "cell_type": "markdown",
      "metadata": {
        "id": "PI4KEY3sD1C2"
      },
      "source": [
        "- 모델 정의: 입력 size와 학습시킬 layer의 크기, activation function 정의"
      ]
    },
    {
      "cell_type": "code",
      "metadata": {
        "colab": {
          "base_uri": "https://localhost:8080/"
        },
        "id": "AhG752cXD7P5",
        "outputId": "87919eda-e6e6-4d13-8bc4-6968779e02a0"
      },
      "source": [
        "# input shape is the vocabulary count used for the movie reviews (10,000 words)\n",
        "vocab_size = 10000\n",
        "\n",
        "model = tf.keras.Sequential()\n",
        "model.add(tf.keras.layers.Embedding(vocab_size, 16))\n",
        "model.add(tf.keras.layers.GlobalAveragePooling1D())\n",
        "model.add(tf.keras.layers.Dense(16, activation=tf.nn.relu))\n",
        "model.add(tf.keras.layers.Dense(1, activation=tf.nn.sigmoid))\n",
        "\n",
        "model.summary()"
      ],
      "execution_count": null,
      "outputs": [
        {
          "output_type": "stream",
          "text": [
            "Model: \"sequential\"\n",
            "_________________________________________________________________\n",
            "Layer (type)                 Output Shape              Param #   \n",
            "=================================================================\n",
            "embedding (Embedding)        (None, None, 16)          160000    \n",
            "_________________________________________________________________\n",
            "global_average_pooling1d (Gl (None, 16)                0         \n",
            "_________________________________________________________________\n",
            "dense (Dense)                (None, 16)                272       \n",
            "_________________________________________________________________\n",
            "dense_1 (Dense)              (None, 1)                 17        \n",
            "=================================================================\n",
            "Total params: 160,289\n",
            "Trainable params: 160,289\n",
            "Non-trainable params: 0\n",
            "_________________________________________________________________\n"
          ],
          "name": "stdout"
        }
      ]
    },
    {
      "cell_type": "code",
      "metadata": {
        "id": "pq4nEsOaEETw"
      },
      "source": [
        "model.compile(optimizer='adam',\n",
        "              loss='binary_crossentropy',\n",
        "              metrics=['accuracy'])"
      ],
      "execution_count": null,
      "outputs": []
    },
    {
      "cell_type": "code",
      "metadata": {
        "colab": {
          "base_uri": "https://localhost:8080/"
        },
        "id": "eov6pMk4EHlZ",
        "outputId": "56f10c3f-e2d4-4ab1-eb14-501884e08cd9"
      },
      "source": [
        "x_val = train_data[:10000]\n",
        "partial_x_train = train_data[10000:]\n",
        "\n",
        "y_val = train_labels[:10000]\n",
        "partial_y_train = train_labels[10000:]\n",
        "\n",
        "history = model.fit(partial_x_train,\n",
        "                    partial_y_train,\n",
        "                    epochs=40,\n",
        "                    batch_size=512,\n",
        "                    validation_data=(x_val, y_val),\n",
        "                    verbose=1)"
      ],
      "execution_count": null,
      "outputs": [
        {
          "output_type": "stream",
          "text": [
            "Epoch 1/40\n",
            "30/30 [==============================] - 2s 35ms/step - loss: 0.6923 - accuracy: 0.5035 - val_loss: 0.6911 - val_accuracy: 0.4947\n",
            "Epoch 2/40\n",
            "30/30 [==============================] - 1s 27ms/step - loss: 0.6884 - accuracy: 0.5133 - val_loss: 0.6857 - val_accuracy: 0.5307\n",
            "Epoch 3/40\n",
            "30/30 [==============================] - 1s 28ms/step - loss: 0.6791 - accuracy: 0.5715 - val_loss: 0.6741 - val_accuracy: 0.5991\n",
            "Epoch 4/40\n",
            "30/30 [==============================] - 1s 18ms/step - loss: 0.6623 - accuracy: 0.6471 - val_loss: 0.6554 - val_accuracy: 0.6548\n",
            "Epoch 5/40\n",
            "30/30 [==============================] - 1s 18ms/step - loss: 0.6373 - accuracy: 0.7010 - val_loss: 0.6294 - val_accuracy: 0.7311\n",
            "Epoch 6/40\n",
            "30/30 [==============================] - 1s 18ms/step - loss: 0.6058 - accuracy: 0.7580 - val_loss: 0.6005 - val_accuracy: 0.7171\n",
            "Epoch 7/40\n",
            "30/30 [==============================] - 1s 18ms/step - loss: 0.5707 - accuracy: 0.7926 - val_loss: 0.5664 - val_accuracy: 0.7856\n",
            "Epoch 8/40\n",
            "30/30 [==============================] - 1s 18ms/step - loss: 0.5339 - accuracy: 0.8287 - val_loss: 0.5335 - val_accuracy: 0.8159\n",
            "Epoch 9/40\n",
            "30/30 [==============================] - 1s 18ms/step - loss: 0.4977 - accuracy: 0.8479 - val_loss: 0.5026 - val_accuracy: 0.8284\n",
            "Epoch 10/40\n",
            "30/30 [==============================] - 1s 18ms/step - loss: 0.4634 - accuracy: 0.8627 - val_loss: 0.4728 - val_accuracy: 0.8482\n",
            "Epoch 11/40\n",
            "30/30 [==============================] - 1s 18ms/step - loss: 0.4313 - accuracy: 0.8744 - val_loss: 0.4466 - val_accuracy: 0.8563\n",
            "Epoch 12/40\n",
            "30/30 [==============================] - 1s 18ms/step - loss: 0.4017 - accuracy: 0.8853 - val_loss: 0.4238 - val_accuracy: 0.8567\n",
            "Epoch 13/40\n",
            "30/30 [==============================] - 1s 18ms/step - loss: 0.3743 - accuracy: 0.8925 - val_loss: 0.4028 - val_accuracy: 0.8619\n",
            "Epoch 14/40\n",
            "30/30 [==============================] - 1s 18ms/step - loss: 0.3494 - accuracy: 0.9002 - val_loss: 0.3831 - val_accuracy: 0.8689\n",
            "Epoch 15/40\n",
            "30/30 [==============================] - 1s 18ms/step - loss: 0.3266 - accuracy: 0.9063 - val_loss: 0.3675 - val_accuracy: 0.8692\n",
            "Epoch 16/40\n",
            "30/30 [==============================] - 1s 20ms/step - loss: 0.3062 - accuracy: 0.9105 - val_loss: 0.3523 - val_accuracy: 0.8757\n",
            "Epoch 17/40\n",
            "30/30 [==============================] - 1s 18ms/step - loss: 0.2873 - accuracy: 0.9175 - val_loss: 0.3416 - val_accuracy: 0.8739\n",
            "Epoch 18/40\n",
            "30/30 [==============================] - 1s 18ms/step - loss: 0.2700 - accuracy: 0.9223 - val_loss: 0.3296 - val_accuracy: 0.8796\n",
            "Epoch 19/40\n",
            "30/30 [==============================] - 1s 18ms/step - loss: 0.2548 - accuracy: 0.9247 - val_loss: 0.3202 - val_accuracy: 0.8821\n",
            "Epoch 20/40\n",
            "30/30 [==============================] - 1s 17ms/step - loss: 0.2407 - accuracy: 0.9281 - val_loss: 0.3142 - val_accuracy: 0.8812\n",
            "Epoch 21/40\n",
            "30/30 [==============================] - 1s 18ms/step - loss: 0.2278 - accuracy: 0.9323 - val_loss: 0.3076 - val_accuracy: 0.8837\n",
            "Epoch 22/40\n",
            "30/30 [==============================] - 1s 21ms/step - loss: 0.2160 - accuracy: 0.9357 - val_loss: 0.3023 - val_accuracy: 0.8841\n",
            "Epoch 23/40\n",
            "30/30 [==============================] - 1s 28ms/step - loss: 0.2056 - accuracy: 0.9391 - val_loss: 0.2982 - val_accuracy: 0.8843\n",
            "Epoch 24/40\n",
            "30/30 [==============================] - 1s 19ms/step - loss: 0.1958 - accuracy: 0.9434 - val_loss: 0.2950 - val_accuracy: 0.8840\n",
            "Epoch 25/40\n",
            "30/30 [==============================] - 1s 18ms/step - loss: 0.1866 - accuracy: 0.9453 - val_loss: 0.2923 - val_accuracy: 0.8851\n",
            "Epoch 26/40\n",
            "30/30 [==============================] - 1s 19ms/step - loss: 0.1781 - accuracy: 0.9489 - val_loss: 0.2909 - val_accuracy: 0.8860\n",
            "Epoch 27/40\n",
            "30/30 [==============================] - 1s 19ms/step - loss: 0.1702 - accuracy: 0.9504 - val_loss: 0.2931 - val_accuracy: 0.8859\n",
            "Epoch 28/40\n",
            "30/30 [==============================] - 1s 18ms/step - loss: 0.1641 - accuracy: 0.9528 - val_loss: 0.2876 - val_accuracy: 0.8865\n",
            "Epoch 29/40\n",
            "30/30 [==============================] - 1s 18ms/step - loss: 0.1566 - accuracy: 0.9560 - val_loss: 0.2888 - val_accuracy: 0.8871\n",
            "Epoch 30/40\n",
            "30/30 [==============================] - 1s 19ms/step - loss: 0.1496 - accuracy: 0.9590 - val_loss: 0.2880 - val_accuracy: 0.8861\n",
            "Epoch 31/40\n",
            "30/30 [==============================] - 1s 27ms/step - loss: 0.1433 - accuracy: 0.9611 - val_loss: 0.2893 - val_accuracy: 0.8870\n",
            "Epoch 32/40\n",
            "30/30 [==============================] - 1s 28ms/step - loss: 0.1376 - accuracy: 0.9639 - val_loss: 0.2903 - val_accuracy: 0.8850\n",
            "Epoch 33/40\n",
            "30/30 [==============================] - 1s 28ms/step - loss: 0.1325 - accuracy: 0.9658 - val_loss: 0.2919 - val_accuracy: 0.8846\n",
            "Epoch 34/40\n",
            "30/30 [==============================] - 1s 27ms/step - loss: 0.1272 - accuracy: 0.9680 - val_loss: 0.2915 - val_accuracy: 0.8868\n",
            "Epoch 35/40\n",
            "30/30 [==============================] - 1s 20ms/step - loss: 0.1223 - accuracy: 0.9684 - val_loss: 0.2929 - val_accuracy: 0.8861\n",
            "Epoch 36/40\n",
            "30/30 [==============================] - 1s 18ms/step - loss: 0.1178 - accuracy: 0.9706 - val_loss: 0.2987 - val_accuracy: 0.8830\n",
            "Epoch 37/40\n",
            "30/30 [==============================] - 1s 18ms/step - loss: 0.1130 - accuracy: 0.9713 - val_loss: 0.2975 - val_accuracy: 0.8847\n",
            "Epoch 38/40\n",
            "30/30 [==============================] - 1s 19ms/step - loss: 0.1087 - accuracy: 0.9731 - val_loss: 0.2997 - val_accuracy: 0.8848\n",
            "Epoch 39/40\n",
            "30/30 [==============================] - 1s 19ms/step - loss: 0.1047 - accuracy: 0.9740 - val_loss: 0.3017 - val_accuracy: 0.8843\n",
            "Epoch 40/40\n",
            "30/30 [==============================] - 1s 19ms/step - loss: 0.1010 - accuracy: 0.9756 - val_loss: 0.3069 - val_accuracy: 0.8828\n"
          ],
          "name": "stdout"
        }
      ]
    },
    {
      "cell_type": "code",
      "metadata": {
        "colab": {
          "base_uri": "https://localhost:8080/"
        },
        "id": "O1vMab7BERcz",
        "outputId": "57c359e9-ed5e-4740-b97f-dca8f0762e29"
      },
      "source": [
        "results = model.evaluate(test_data, test_labels)\n",
        "print(results)"
      ],
      "execution_count": null,
      "outputs": [
        {
          "output_type": "stream",
          "text": [
            "782/782 [==============================] - 1s 1ms/step - loss: 0.3276 - accuracy: 0.8718\n",
            "[0.32757115364074707, 0.8718400001525879]\n"
          ],
          "name": "stdout"
        }
      ]
    }
  ]
}