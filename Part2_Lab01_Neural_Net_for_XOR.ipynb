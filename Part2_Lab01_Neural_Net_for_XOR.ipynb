{
  "nbformat": 4,
  "nbformat_minor": 0,
  "metadata": {
    "colab": {
      "name": "Part2.Lab01.Neural Net for XOR.ipynb",
      "provenance": [],
      "collapsed_sections": [],
      "authorship_tag": "ABX9TyPJfqyxjKBdDaZkWcoX8wwJ",
      "include_colab_link": true
    },
    "kernelspec": {
      "name": "python3",
      "display_name": "Python 3"
    },
    "language_info": {
      "name": "python"
    }
  },
  "cells": [
    {
      "cell_type": "markdown",
      "metadata": {
        "id": "view-in-github",
        "colab_type": "text"
      },
      "source": [
        "<a href=\"https://colab.research.google.com/github/yedini/DL_tensorflow/blob/main/Part2_Lab01_Neural_Net_for_XOR.ipynb\" target=\"_parent\"><img src=\"https://colab.research.google.com/assets/colab-badge.svg\" alt=\"Open In Colab\"/></a>"
      ]
    },
    {
      "cell_type": "code",
      "metadata": {
        "colab": {
          "base_uri": "https://localhost:8080/"
        },
        "id": "L4uztiEcDX_H",
        "outputId": "09bc47ca-2941-47e7-d988-1ea7a972becc"
      },
      "source": [
        "import numpy as np\n",
        "import matplotlib.pyplot as plt\n",
        "%matplotlib inline\n",
        "import tensorflow as tf\n",
        "\n",
        "print(tf.__version__)"
      ],
      "execution_count": null,
      "outputs": [
        {
          "output_type": "stream",
          "text": [
            "2.5.0\n"
          ],
          "name": "stdout"
        }
      ]
    },
    {
      "cell_type": "markdown",
      "metadata": {
        "id": "bexL29HyjUOl"
      },
      "source": [
        "# Lab01-1. Logistic Regression - Eager Excution        \n",
        "XOR 문제를 logistic regression을 활용해서 풀기"
      ]
    },
    {
      "cell_type": "code",
      "metadata": {
        "id": "f0Fx7bumjh5V"
      },
      "source": [
        "tf.random.set_seed(777)"
      ],
      "execution_count": null,
      "outputs": []
    },
    {
      "cell_type": "code",
      "metadata": {
        "colab": {
          "base_uri": "https://localhost:8080/",
          "height": 279
        },
        "id": "VDFqG4YujkFX",
        "outputId": "6c5fa83d-063a-4774-c150-81d050fd529c"
      },
      "source": [
        "x_data = [[0, 0],\n",
        "          [0, 1],\n",
        "          [1, 0],\n",
        "          [1, 1]]\n",
        "y_data = [[0],\n",
        "          [1],\n",
        "          [1],\n",
        "          [0]]\n",
        "\n",
        "plt.scatter(x_data[0][0],x_data[0][1], c='red' , marker='^')\n",
        "plt.scatter(x_data[3][0],x_data[3][1], c='red' , marker='^')\n",
        "plt.scatter(x_data[1][0],x_data[1][1], c='blue' , marker='^')\n",
        "plt.scatter(x_data[2][0],x_data[2][1], c='blue' , marker='^')\n",
        "\n",
        "plt.xlabel(\"x1\")\n",
        "plt.ylabel(\"x2\")\n",
        "plt.show()"
      ],
      "execution_count": null,
      "outputs": [
        {
          "output_type": "display_data",
          "data": {
            "image/png": "[encoded data removed]",
            "text/plain": [
              "<Figure size 432x288 with 1 Axes>"
            ]
          },
          "metadata": {
            "tags": [],
            "needs_background": "light"
          }
        }
      ]
    },
    {
      "cell_type": "code",
      "metadata": {
        "id": "ERvg3yKSjmxP"
      },
      "source": [
        "## tenforflow data API를 통해 학습시킬 값 담기.\n",
        "dataset = tf.data.Dataset.from_tensor_slices((x_data, y_data)).batch(len(x_data))\n",
        "\n",
        "# preprocess_data: 연산을 위해 type을 float로 맞춰주기\n",
        "def preprocess_data(features, labels):\n",
        "  features = tf.cast(features, tf.float32)\n",
        "  labels = tf.cast(labels, tf.float32)\n",
        "  return features, labels"
      ],
      "execution_count": null,
      "outputs": []
    },
    {
      "cell_type": "markdown",
      "metadata": {
        "id": "YexBVY7-koL2"
      },
      "source": [
        "모델에 쓰일 weight와 bias 초기값을 variable로 설정"
      ]
    },
    {
      "cell_type": "code",
      "metadata": {
        "colab": {
          "base_uri": "https://localhost:8080/"
        },
        "id": "BbSxY4y_klX5",
        "outputId": "2c6c2f82-d019-49ce-f7c3-8b55ad69ab49"
      },
      "source": [
        "W = tf.Variable(tf.zeros((2,1)), name='weight')\n",
        "b = tf.Variable(tf.zeros((1,)), name='bias')\n",
        "print(\"W = {}, b = {}\".format(W.numpy(), b.numpy()))"
      ],
      "execution_count": null,
      "outputs": [
        {
          "output_type": "stream",
          "text": [
            "W = [[0.]\n",
            " [0.]], b = [0.]\n"
          ],
          "name": "stdout"
        }
      ]
    },
    {
      "cell_type": "markdown",
      "metadata": {
        "id": "ZkkajsgBlWom"
      },
      "source": [
        "sigmoid 함수를 가설로 선언         \n",
        "![image.png](data:image/png;base64,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)"
      ]
    },
    {
      "cell_type": "code",
      "metadata": {
        "id": "iZJT267Mk49L"
      },
      "source": [
        "def logistic_regression(features):\n",
        "  hypothesis = tf.divide(1., 1. + tf.exp(tf.matmul(features, W) + b))\n",
        "  return hypothesis"
      ],
      "execution_count": null,
      "outputs": []
    },
    {
      "cell_type": "markdown",
      "metadata": {
        "id": "UNL9gMtjl6XS"
      },
      "source": [
        "가설을 검증할 cost함수 정의\n"
      ]
    },
    {
      "cell_type": "code",
      "metadata": {
        "id": "swj_DOLYl55l"
      },
      "source": [
        "def loss_fn(hypothesis, features, labels):\n",
        "  cost = -tf.reduce_mean(labels*tf.math.log(logistic_regression(features)) +\n",
        "                         (1-labels)*tf.math.log(1-hypothesis))\n",
        "  return cost\n",
        "\n",
        "optimizer = tf.keras.optimizers.SGD(learning_rate=0.01)"
      ],
      "execution_count": null,
      "outputs": []
    },
    {
      "cell_type": "markdown",
      "metadata": {
        "id": "SwR9hq_Pmh_c"
      },
      "source": [
        "0.5를 기준으로 0 또는 1을 return하고 실제값과 비교하여 accyracy를 계산함"
      ]
    },
    {
      "cell_type": "code",
      "metadata": {
        "id": "ZPJ2n14WmgXg"
      },
      "source": [
        "def accuracy_fn(hypothesis, labels):\n",
        "  predicted = tf.cast(hypothesis > 0.5, dtype=tf.float32)\n",
        "  accuracy = tf.reduce_mean(tf.cast(tf.equal(predicted, labels), dtype=tf.float32))\n",
        "  return accuracy"
      ],
      "execution_count": null,
      "outputs": []
    },
    {
      "cell_type": "markdown",
      "metadata": {
        "id": "aM9WlxR8nd6P"
      },
      "source": [
        "GradientTape를 통해 경사값을 계산"
      ]
    },
    {
      "cell_type": "code",
      "metadata": {
        "id": "c0cKeVRGnclF"
      },
      "source": [
        "def grad(hypothesis, features, labels):\n",
        "  with tf.GradientTape() as tape:\n",
        "    loss_value = loss_fn(logistic_regression(features), features, labels)\n",
        "\n",
        "    return tape.gradient(loss_value, [W,b])"
      ],
      "execution_count": null,
      "outputs": []
    },
    {
      "cell_type": "markdown",
      "metadata": {
        "id": "XjlbSqnioRzp"
      },
      "source": [
        "tensorflow를 통한 실행을 위해 session을 선언함"
      ]
    },
    {
      "cell_type": "code",
      "metadata": {
        "colab": {
          "base_uri": "https://localhost:8080/"
        },
        "id": "Tv5IRQHRoWAW",
        "outputId": "0152b6e8-7b43-4c7f-bcbb-4ec1c40365ad"
      },
      "source": [
        "EPOCHS = 1001\n",
        "\n",
        "for step in range(EPOCHS):\n",
        "    for features, labels  in dataset:\n",
        "        features, labels = preprocess_data(features, labels)\n",
        "        grads = grad(logistic_regression(features), features, labels)\n",
        "        optimizer.apply_gradients(grads_and_vars=zip(grads,[W,b]))\n",
        "        if step % 100 == 0:\n",
        "            print(\"Iter: {}, Loss: {:.4f}\".format(step, loss_fn(logistic_regression(features),features,labels)))\n",
        "print(\"W = {}, B = {}\".format(W.numpy(), b.numpy()))\n",
        "x_data, y_data = preprocess_data(x_data, y_data)\n",
        "test_acc = accuracy_fn(logistic_regression(x_data),y_data)\n",
        "print(\"Testset Accuracy: {:.4f}\".format(test_acc))"
      ],
      "execution_count": null,
      "outputs": [
        {
          "output_type": "stream",
          "text": [
            "Iter: 0, Loss: 0.6931\n",
            "Iter: 100, Loss: 0.6931\n",
            "Iter: 200, Loss: 0.6931\n",
            "Iter: 300, Loss: 0.6931\n",
            "Iter: 400, Loss: 0.6931\n",
            "Iter: 500, Loss: 0.6931\n",
            "Iter: 600, Loss: 0.6931\n",
            "Iter: 700, Loss: 0.6931\n",
            "Iter: 800, Loss: 0.6931\n",
            "Iter: 900, Loss: 0.6931\n",
            "Iter: 1000, Loss: 0.6931\n",
            "W = [[0.]\n",
            " [0.]], B = [0.]\n",
            "Testset Accuracy: 0.5000\n"
          ],
          "name": "stdout"
        }
      ]
    },
    {
      "cell_type": "markdown",
      "metadata": {
        "id": "fH-d1t_2p7ix"
      },
      "source": [
        "# Lab01-2. XOR - Neural Network - Eager Excuetion       \n",
        "XOR 문제를 Neural network을 활용하여 풀기"
      ]
    },
    {
      "cell_type": "code",
      "metadata": {
        "id": "fetfTAnVqDvO"
      },
      "source": [
        "tf.random.set_seed(777)"
      ],
      "execution_count": null,
      "outputs": []
    },
    {
      "cell_type": "markdown",
      "metadata": {
        "id": "OuBP29NwqVqa"
      },
      "source": [
        "lab01-1에서 사용한 data를 3 layer의 neural network를 통해 학습시킨 후 모델을 생성한다."
      ]
    },
    {
      "cell_type": "code",
      "metadata": {
        "id": "YQ1m7nQJqINk"
      },
      "source": [
        "W1 = tf.Variable(tf.random.normal((2, 1)), name='weight1')\n",
        "b1 = tf.Variable(tf.random.normal((1,)), name='bias1')\n",
        "\n",
        "W2 = tf.Variable(tf.random.normal((2, 1)), name='weight2')\n",
        "b2 = tf.Variable(tf.random.normal((1,)), name='bias2')\n",
        "\n",
        "W3 = tf.Variable(tf.random.normal((2, 1)), name='weight3')\n",
        "b3 = tf.Variable(tf.random.normal((1,)), name='bias3')"
      ],
      "execution_count": null,
      "outputs": []
    },
    {
      "cell_type": "markdown",
      "metadata": {
        "id": "K-w0jfvFrUTF"
      },
      "source": [
        "![image.png](data:image/png;base64,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)"
      ]
    },
    {
      "cell_type": "code",
      "metadata": {
        "id": "oqf_nLnJqoJK"
      },
      "source": [
        "def neural_net(features):\n",
        "    layer1 = tf.sigmoid(tf.matmul(features, W1) + b1)\n",
        "    layer2 = tf.sigmoid(tf.matmul(features, W2) + b2)\n",
        "    layer3 = tf.concat([layer1, layer2],-1)\n",
        "    layer3 = tf.reshape(layer3, shape = [-1,2])\n",
        "    hypothesis = tf.sigmoid(tf.matmul(layer3, W3) + b3)\n",
        "    return hypothesis\n",
        "\n",
        "def loss_fn(hypothesis, labels):\n",
        "    cost = -tf.reduce_mean(labels * tf.math.log(hypothesis) + (1 - labels) * tf.math.log(1 - hypothesis))\n",
        "    return cost\n",
        "\n",
        "optimizer = tf.keras.optimizers.SGD(learning_rate=0.01)\n",
        "\n",
        "def accuracy_fn(hypothesis, labels):\n",
        "    predicted = tf.cast(hypothesis > 0.5, dtype=tf.float32)\n",
        "    accuracy = tf.reduce_mean(tf.cast(tf.equal(predicted, labels), dtype=tf.float32))\n",
        "    return accuracy\n",
        "\n",
        "def grad(hypothesis, features, labels):\n",
        "    with tf.GradientTape() as tape:\n",
        "        loss_value = loss_fn(neural_net(features),labels)\n",
        "    return tape.gradient(loss_value, [W1, W2, W3, b1, b2, b3])"
      ],
      "execution_count": null,
      "outputs": []
    },
    {
      "cell_type": "code",
      "metadata": {
        "colab": {
          "base_uri": "https://localhost:8080/"
        },
        "id": "G7rHEtE4rcz9",
        "outputId": "c1aa71ae-e356-4bbc-e90a-884b714af32b"
      },
      "source": [
        "EPOCHS = 5000     # eopchs를 늘리면 정확도가 더 높아진다.\n",
        "\n",
        "for step in range(EPOCHS):\n",
        "    for features, labels  in dataset:\n",
        "        features, labels = preprocess_data(features, labels)\n",
        "        grads = grad(neural_net(features), features, labels)\n",
        "        optimizer.apply_gradients(grads_and_vars=zip(grads,[W1, W2, W3, b1, b2, b3]))\n",
        "        if step % 500 == 0:\n",
        "            print(\"Iter: {}, Loss: {:.4f}\".format(step, loss_fn(neural_net(features),labels)))\n",
        "x_data, y_data = preprocess_data(x_data, y_data)\n",
        "test_acc = accuracy_fn(neural_net(x_data),y_data)\n",
        "print(\"Testset Accuracy: {:.4f}\".format(test_acc))"
      ],
      "execution_count": null,
      "outputs": [
        {
          "output_type": "stream",
          "text": [
            "Iter: 0, Loss: 0.6905\n",
            "Iter: 500, Loss: 0.6900\n",
            "Iter: 1000, Loss: 0.6895\n",
            "Iter: 1500, Loss: 0.6889\n",
            "Iter: 2000, Loss: 0.6882\n",
            "Iter: 2500, Loss: 0.6873\n",
            "Iter: 3000, Loss: 0.6864\n",
            "Iter: 3500, Loss: 0.6853\n",
            "Iter: 4000, Loss: 0.6841\n",
            "Iter: 4500, Loss: 0.6827\n",
            "Testset Accuracy: 0.7500\n"
          ],
          "name": "stdout"
        }
      ]
    },
    {
      "cell_type": "markdown",
      "metadata": {
        "id": "WBJxaob-r8de"
      },
      "source": [
        "# Lab09-3. XOR - Deep neural network - eager      \n",
        "XOR 문제를 deep neural network를 활용해서 풀기"
      ]
    },
    {
      "cell_type": "markdown",
      "metadata": {
        "id": "HVwN_t1jscUs"
      },
      "source": [
        "- neural network를 하나의 class로 만들어서 사용함!\n",
        "- 4 layer neural network"
      ]
    },
    {
      "cell_type": "code",
      "metadata": {
        "id": "1EWEr4WPsC9R"
      },
      "source": [
        "dataset = tf.data.Dataset.from_tensor_slices((x_data, y_data)).batch(len(x_data))\n",
        "nb_classes = 10\n",
        "\n",
        "class wide_deep_nn():\n",
        "    def __init__(self, nb_classes):\n",
        "        super(wide_deep_nn, self).__init__()        \n",
        "     \n",
        "        self.W1 = tf.Variable(tf.random.normal((2, nb_classes)), name='weight1')\n",
        "        self.b1 = tf.Variable(tf.random.normal((nb_classes,)), name='bias1')\n",
        "\n",
        "        self.W2 = tf.Variable(tf.random.normal((nb_classes, nb_classes)), name='weight2')\n",
        "        self.b2 = tf.Variable(tf.random.normal((nb_classes,)), name='bias2')\n",
        "\n",
        "        self.W3 = tf.Variable(tf.random.normal((nb_classes, nb_classes)), name='weight3')\n",
        "        self.b3 = tf.Variable(tf.random.normal((nb_classes,)), name='bias3')\n",
        "\n",
        "        self.W4 = tf.Variable(tf.random.normal((nb_classes, 1)), name='weight4')\n",
        "        self.b4 = tf.Variable(tf.random.normal((1,)), name='bias4')\n",
        "        \n",
        "        self.variables = [self.W1,self.b1,self.W2,self.b2,self.W3,self.b3,self.W4,self.b4]\n",
        "        \n",
        "    def preprocess_data(self, features, labels):\n",
        "        features = tf.cast(features, tf.float32)\n",
        "        labels = tf.cast(labels, tf.float32)\n",
        "        return features, labels\n",
        "        \n",
        "    def deep_nn(self, features):\n",
        "        layer1 = tf.sigmoid(tf.matmul(features, self.W1) + self.b1)\n",
        "        layer2 = tf.sigmoid(tf.matmul(layer1, self.W2) + self.b2)\n",
        "        layer3 = tf.sigmoid(tf.matmul(layer2, self.W3) + self.b3)\n",
        "        hypothesis = tf.sigmoid(tf.matmul(layer3, self.W4) + self.b4)\n",
        "        return hypothesis\n",
        "    \n",
        "    def loss_fn(self, hypothesis, features, labels):\n",
        "        cost = -tf.reduce_mean(labels * tf.math.log(hypothesis) + (1 - labels) * tf.math.log(1 - hypothesis))\n",
        "        return cost\n",
        "\n",
        "    def accuracy_fn(self, hypothesis, labels):\n",
        "        predicted = tf.cast(hypothesis > 0.5, dtype=tf.float32)\n",
        "        accuracy = tf.reduce_mean(tf.cast(tf.equal(predicted, labels), dtype=tf.float32))\n",
        "        return accuracy\n",
        "\n",
        "    def grad(self, hypothesis, features, labels):\n",
        "        with tf.GradientTape() as tape:\n",
        "            loss_value = self.loss_fn(self.deep_nn(features),features,labels)\n",
        "        return tape.gradient(loss_value,self.variables)\n",
        "    \n",
        "    def fit(self, dataset, EPOCHS=10000, verbose=100):\n",
        "        optimizer =  tf.keras.optimizers.SGD(learning_rate=0.01)\n",
        "        for step in range(EPOCHS):\n",
        "            for features, labels  in dataset:\n",
        "                features, labels = self.preprocess_data(features, labels)\n",
        "                grads = self.grad(self.deep_nn(features), features, labels)\n",
        "                optimizer.apply_gradients(grads_and_vars=zip(grads, self.variables))\n",
        "                if step % verbose == 0:\n",
        "                    print(\"Iter: {}, Loss: {:.4f}\".format(step, self.loss_fn(self.deep_nn(features),features,labels)))\n",
        "\n",
        "    def test_model(self,x_data, y_data):\n",
        "        x_data, y_data = self.preprocess_data(x_data, y_data)\n",
        "        test_acc = self.accuracy_fn(self.deep_nn(x_data),y_data)\n",
        "        print(\"Testset Accuracy: {:.4f}\".format(test_acc))"
      ],
      "execution_count": null,
      "outputs": []
    },
    {
      "cell_type": "code",
      "metadata": {
        "colab": {
          "base_uri": "https://localhost:8080/"
        },
        "id": "bjiH2sLosyks",
        "outputId": "11863d94-f9a3-4523-f263-ae567717e658"
      },
      "source": [
        "model = wide_deep_nn(nb_classes)\n",
        "model.fit(dataset)"
      ],
      "execution_count": null,
      "outputs": [
        {
          "output_type": "stream",
          "text": [
            "Iter: 0, Loss: 1.2497\n",
            "Iter: 100, Loss: 0.7382\n",
            "Iter: 200, Loss: 0.6897\n",
            "Iter: 300, Loss: 0.6860\n",
            "Iter: 400, Loss: 0.6853\n",
            "Iter: 500, Loss: 0.6848\n",
            "Iter: 600, Loss: 0.6844\n",
            "Iter: 700, Loss: 0.6839\n",
            "Iter: 800, Loss: 0.6833\n",
            "Iter: 900, Loss: 0.6828\n",
            "Iter: 1000, Loss: 0.6823\n",
            "Iter: 1100, Loss: 0.6817\n",
            "Iter: 1200, Loss: 0.6812\n",
            "Iter: 1300, Loss: 0.6806\n",
            "Iter: 1400, Loss: 0.6800\n",
            "Iter: 1500, Loss: 0.6794\n",
            "Iter: 1600, Loss: 0.6788\n",
            "Iter: 1700, Loss: 0.6782\n",
            "Iter: 1800, Loss: 0.6775\n",
            "Iter: 1900, Loss: 0.6768\n",
            "Iter: 2000, Loss: 0.6761\n",
            "Iter: 2100, Loss: 0.6754\n",
            "Iter: 2200, Loss: 0.6746\n",
            "Iter: 2300, Loss: 0.6739\n",
            "Iter: 2400, Loss: 0.6731\n",
            "Iter: 2500, Loss: 0.6722\n",
            "Iter: 2600, Loss: 0.6714\n",
            "Iter: 2700, Loss: 0.6705\n",
            "Iter: 2800, Loss: 0.6696\n",
            "Iter: 2900, Loss: 0.6686\n",
            "Iter: 3000, Loss: 0.6676\n",
            "Iter: 3100, Loss: 0.6666\n",
            "Iter: 3200, Loss: 0.6656\n",
            "Iter: 3300, Loss: 0.6645\n",
            "Iter: 3400, Loss: 0.6633\n",
            "Iter: 3500, Loss: 0.6622\n",
            "Iter: 3600, Loss: 0.6610\n",
            "Iter: 3700, Loss: 0.6597\n",
            "Iter: 3800, Loss: 0.6584\n",
            "Iter: 3900, Loss: 0.6571\n",
            "Iter: 4000, Loss: 0.6558\n",
            "Iter: 4100, Loss: 0.6544\n",
            "Iter: 4200, Loss: 0.6529\n",
            "Iter: 4300, Loss: 0.6514\n",
            "Iter: 4400, Loss: 0.6499\n",
            "Iter: 4500, Loss: 0.6483\n",
            "Iter: 4600, Loss: 0.6467\n",
            "Iter: 4700, Loss: 0.6450\n",
            "Iter: 4800, Loss: 0.6433\n",
            "Iter: 4900, Loss: 0.6416\n",
            "Iter: 5000, Loss: 0.6398\n",
            "Iter: 5100, Loss: 0.6379\n",
            "Iter: 5200, Loss: 0.6360\n",
            "Iter: 5300, Loss: 0.6341\n",
            "Iter: 5400, Loss: 0.6321\n",
            "Iter: 5500, Loss: 0.6300\n",
            "Iter: 5600, Loss: 0.6279\n",
            "Iter: 5700, Loss: 0.6257\n",
            "Iter: 5800, Loss: 0.6235\n",
            "Iter: 5900, Loss: 0.6212\n",
            "Iter: 6000, Loss: 0.6188\n",
            "Iter: 6100, Loss: 0.6163\n",
            "Iter: 6200, Loss: 0.6137\n",
            "Iter: 6300, Loss: 0.6111\n",
            "Iter: 6400, Loss: 0.6084\n",
            "Iter: 6500, Loss: 0.6055\n",
            "Iter: 6600, Loss: 0.6026\n",
            "Iter: 6700, Loss: 0.5996\n",
            "Iter: 6800, Loss: 0.5964\n",
            "Iter: 6900, Loss: 0.5932\n",
            "Iter: 7000, Loss: 0.5898\n",
            "Iter: 7100, Loss: 0.5863\n",
            "Iter: 7200, Loss: 0.5826\n",
            "Iter: 7300, Loss: 0.5788\n",
            "Iter: 7400, Loss: 0.5749\n",
            "Iter: 7500, Loss: 0.5708\n",
            "Iter: 7600, Loss: 0.5665\n",
            "Iter: 7700, Loss: 0.5621\n",
            "Iter: 7800, Loss: 0.5575\n",
            "Iter: 7900, Loss: 0.5527\n",
            "Iter: 8000, Loss: 0.5477\n",
            "Iter: 8100, Loss: 0.5425\n",
            "Iter: 8200, Loss: 0.5372\n",
            "Iter: 8300, Loss: 0.5316\n",
            "Iter: 8400, Loss: 0.5258\n",
            "Iter: 8500, Loss: 0.5198\n",
            "Iter: 8600, Loss: 0.5135\n",
            "Iter: 8700, Loss: 0.5071\n",
            "Iter: 8800, Loss: 0.5004\n",
            "Iter: 8900, Loss: 0.4934\n",
            "Iter: 9000, Loss: 0.4863\n",
            "Iter: 9100, Loss: 0.4788\n",
            "Iter: 9200, Loss: 0.4712\n",
            "Iter: 9300, Loss: 0.4633\n",
            "Iter: 9400, Loss: 0.4552\n",
            "Iter: 9500, Loss: 0.4469\n",
            "Iter: 9600, Loss: 0.4384\n",
            "Iter: 9700, Loss: 0.4296\n",
            "Iter: 9800, Loss: 0.4207\n",
            "Iter: 9900, Loss: 0.4116\n"
          ],
          "name": "stdout"
        }
      ]
    },
    {
      "cell_type": "code",
      "metadata": {
        "colab": {
          "base_uri": "https://localhost:8080/"
        },
        "id": "YWa42zSztJZH",
        "outputId": "62b33186-e9dc-464c-b93e-8bd79430599f"
      },
      "source": [
        "model.test_model(x_data, y_data)"
      ],
      "execution_count": null,
      "outputs": [
        {
          "output_type": "stream",
          "text": [
            "Testset Accuracy: 1.0000\n"
          ],
          "name": "stdout"
        }
      ]
    },
    {
      "cell_type": "code",
      "metadata": {
        "colab": {
          "base_uri": "https://localhost:8080/",
          "height": 134
        },
        "id": "kHtBITLKtqAO",
        "outputId": "9f4651b4-530e-4990-f94b-17e6fb04b013"
      },
      "source": [
        "$ tensorboard - logdir=./logs/xor_logs"
      ],
      "execution_count": null,
      "outputs": [
        {
          "output_type": "error",
          "ename": "SyntaxError",
          "evalue": "ignored",
          "traceback": [
            "\u001b[0;36m  File \u001b[0;32m\"<ipython-input-38-36a073ba0d1b>\"\u001b[0;36m, line \u001b[0;32m1\u001b[0m\n\u001b[0;31m    $ tensorboard - logdir=./logs/xor_logs\u001b[0m\n\u001b[0m    ^\u001b[0m\n\u001b[0;31mSyntaxError\u001b[0m\u001b[0;31m:\u001b[0m invalid syntax\n"
          ]
        }
      ]
    },
    {
      "cell_type": "code",
      "metadata": {
        "id": "jpXUrgAyviWK"
      },
      "source": [
        ""
      ],
      "execution_count": null,
      "outputs": []
    }
  ]
}